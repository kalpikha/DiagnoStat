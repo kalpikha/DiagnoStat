{
 "cells": [
  {
   "cell_type": "markdown",
   "id": "2239f450",
   "metadata": {
    "papermill": {
     "duration": 0.017828,
     "end_time": "2023-06-27T21:50:30.187966",
     "exception": false,
     "start_time": "2023-06-27T21:50:30.170138",
     "status": "completed"
    },
    "tags": []
   },
   "source": [
    "# HEART DISEASE PREDICTION"
   ]
  },
  {
   "cell_type": "markdown",
   "id": "e96f8878",
   "metadata": {
    "id": "aTb-9TFFqprC",
    "papermill": {
     "duration": 0.016813,
     "end_time": "2023-06-27T21:50:30.222052",
     "exception": false,
     "start_time": "2023-06-27T21:50:30.205239",
     "status": "completed"
    },
    "tags": []
   },
   "source": [
    "### Importing Libraries"
   ]
  },
  {
   "cell_type": "code",
   "execution_count": 1,
   "id": "fd2b7c14",
   "metadata": {
    "execution": {
     "iopub.execute_input": "2023-06-27T21:50:30.259551Z",
     "iopub.status.busy": "2023-06-27T21:50:30.258814Z",
     "iopub.status.idle": "2023-06-27T21:50:32.306311Z",
     "shell.execute_reply": "2023-06-27T21:50:32.305070Z"
    },
    "executionInfo": {
     "elapsed": 1659,
     "status": "ok",
     "timestamp": 1653200233515,
     "user": {
      "displayName": "siddhardh selvam",
      "userId": "13966379820454708749"
     },
     "user_tz": -330
    },
    "id": "3q9U3S_whh3-",
    "papermill": {
     "duration": 2.069619,
     "end_time": "2023-06-27T21:50:32.309454",
     "exception": false,
     "start_time": "2023-06-27T21:50:30.239835",
     "status": "completed"
    },
    "tags": []
   },
   "outputs": [],
   "source": [
    "import numpy as np\n",
    "import pandas as pd\n",
    "\n",
    "from sklearn.preprocessing import MinMaxScaler\n",
    "\n",
    "from sklearn.model_selection import train_test_split\n",
    "\n",
    "from sklearn.linear_model import LogisticRegression\n",
    "from sklearn.tree import DecisionTreeClassifier\n",
    "from sklearn.tree import export_graphviz  # to export graph of decision tree to pdf\n",
    "from sklearn.ensemble import RandomForestClassifier\n",
    "from sklearn.svm import SVC\n",
    "from sklearn.neighbors import KNeighborsClassifier\n",
    "from sklearn.model_selection import GridSearchCV\n",
    "\n",
    "from sklearn.metrics import accuracy_score, classification_report"
   ]
  },
  {
   "cell_type": "markdown",
   "id": "1f2e7260",
   "metadata": {
    "id": "egMd5zeurTMR",
    "papermill": {
     "duration": 0.017045,
     "end_time": "2023-06-27T21:50:32.344138",
     "exception": false,
     "start_time": "2023-06-27T21:50:32.327093",
     "status": "completed"
    },
    "tags": []
   },
   "source": [
    "# Data Collection and Processing "
   ]
  },
  {
   "cell_type": "markdown",
   "id": "864fb67c",
   "metadata": {
    "papermill": {
     "duration": 0.017716,
     "end_time": "2023-06-27T21:50:32.379682",
     "exception": false,
     "start_time": "2023-06-27T21:50:32.361966",
     "status": "completed"
    },
    "tags": []
   },
   "source": [
    "**About Dataset**  \n",
    "**Context**  \n",
    "This data set dates from 1988 and consists of four databases: Cleveland, Hungary, Switzerland, and Long Beach V. It contains 76 attributes, including the predicted attribute, but all published experiments refer to using a subset of 14 of them. The \"target\" field refers to the presence of heart disease in the patient. It is integer valued 0 = no disease and 1 = disease.  \n",
    "\n",
    "**Content**  \n",
    "Attribute Information:  \n",
    "\n",
    "age  \n",
    "sex  \n",
    "chest pain type (4 values)  \n",
    "resting blood pressure  \n",
    "serum cholestoral in mg/dl  \n",
    "fasting blood sugar > 120 mg/dl  \n",
    "resting electrocardiographic results (values 0,1,2)  \n",
    "maximum heart rate achieved  \n",
    "exercise induced angina  \n",
    "oldpeak = ST depression induced by exercise relative to rest  \n",
    "the slope of the peak exercise ST segment  \n",
    "number of major vessels (0-3) colored by flourosopy  \n",
    "thal: 0 = normal; 1 = fixed defect; 2 = reversable defect  \n",
    "The names and social security numbers of the patients were recently removed from the database, replaced with dummy values.  "
   ]
  },
  {
   "cell_type": "code",
   "execution_count": 2,
   "id": "7614d838",
   "metadata": {
    "execution": {
     "iopub.execute_input": "2023-06-27T21:50:32.416440Z",
     "iopub.status.busy": "2023-06-27T21:50:32.415994Z",
     "iopub.status.idle": "2023-06-27T21:50:32.444019Z",
     "shell.execute_reply": "2023-06-27T21:50:32.442979Z"
    },
    "executionInfo": {
     "elapsed": 13,
     "status": "ok",
     "timestamp": 1653200233516,
     "user": {
      "displayName": "siddhardh selvam",
      "userId": "13966379820454708749"
     },
     "user_tz": -330
    },
    "id": "0q-3-LkQrREV",
    "papermill": {
     "duration": 0.049773,
     "end_time": "2023-06-27T21:50:32.446729",
     "exception": false,
     "start_time": "2023-06-27T21:50:32.396956",
     "status": "completed"
    },
    "tags": []
   },
   "outputs": [],
   "source": [
    "# loading the csv data to a Pandas DataFrame\n",
    "heart_data = pd.read_csv('/kaggle/input/heart-disease-dataset/heart.csv')"
   ]
  },
  {
   "cell_type": "code",
   "execution_count": 3,
   "id": "faf772b6",
   "metadata": {
    "execution": {
     "iopub.execute_input": "2023-06-27T21:50:32.484028Z",
     "iopub.status.busy": "2023-06-27T21:50:32.482954Z",
     "iopub.status.idle": "2023-06-27T21:50:32.520454Z",
     "shell.execute_reply": "2023-06-27T21:50:32.519314Z"
    },
    "executionInfo": {
     "elapsed": 12,
     "status": "ok",
     "timestamp": 1653200233516,
     "user": {
      "displayName": "siddhardh selvam",
      "userId": "13966379820454708749"
     },
     "user_tz": -330
    },
    "id": "M8dQxSTqriWD",
    "outputId": "0ab48855-8403-4103-c7c8-e307c07da055",
    "papermill": {
     "duration": 0.059053,
     "end_time": "2023-06-27T21:50:32.523336",
     "exception": false,
     "start_time": "2023-06-27T21:50:32.464283",
     "status": "completed"
    },
    "tags": []
   },
   "outputs": [
    {
     "data": {
      "text/html": [
       "<div>\n",
       "<style scoped>\n",
       "    .dataframe tbody tr th:only-of-type {\n",
       "        vertical-align: middle;\n",
       "    }\n",
       "\n",
       "    .dataframe tbody tr th {\n",
       "        vertical-align: top;\n",
       "    }\n",
       "\n",
       "    .dataframe thead th {\n",
       "        text-align: right;\n",
       "    }\n",
       "</style>\n",
       "<table border=\"1\" class=\"dataframe\">\n",
       "  <thead>\n",
       "    <tr style=\"text-align: right;\">\n",
       "      <th></th>\n",
       "      <th>age</th>\n",
       "      <th>sex</th>\n",
       "      <th>cp</th>\n",
       "      <th>trestbps</th>\n",
       "      <th>chol</th>\n",
       "      <th>fbs</th>\n",
       "      <th>restecg</th>\n",
       "      <th>thalach</th>\n",
       "      <th>exang</th>\n",
       "      <th>oldpeak</th>\n",
       "      <th>slope</th>\n",
       "      <th>ca</th>\n",
       "      <th>thal</th>\n",
       "      <th>target</th>\n",
       "    </tr>\n",
       "  </thead>\n",
       "  <tbody>\n",
       "    <tr>\n",
       "      <th>0</th>\n",
       "      <td>52</td>\n",
       "      <td>1</td>\n",
       "      <td>0</td>\n",
       "      <td>125</td>\n",
       "      <td>212</td>\n",
       "      <td>0</td>\n",
       "      <td>1</td>\n",
       "      <td>168</td>\n",
       "      <td>0</td>\n",
       "      <td>1.0</td>\n",
       "      <td>2</td>\n",
       "      <td>2</td>\n",
       "      <td>3</td>\n",
       "      <td>0</td>\n",
       "    </tr>\n",
       "    <tr>\n",
       "      <th>1</th>\n",
       "      <td>53</td>\n",
       "      <td>1</td>\n",
       "      <td>0</td>\n",
       "      <td>140</td>\n",
       "      <td>203</td>\n",
       "      <td>1</td>\n",
       "      <td>0</td>\n",
       "      <td>155</td>\n",
       "      <td>1</td>\n",
       "      <td>3.1</td>\n",
       "      <td>0</td>\n",
       "      <td>0</td>\n",
       "      <td>3</td>\n",
       "      <td>0</td>\n",
       "    </tr>\n",
       "    <tr>\n",
       "      <th>2</th>\n",
       "      <td>70</td>\n",
       "      <td>1</td>\n",
       "      <td>0</td>\n",
       "      <td>145</td>\n",
       "      <td>174</td>\n",
       "      <td>0</td>\n",
       "      <td>1</td>\n",
       "      <td>125</td>\n",
       "      <td>1</td>\n",
       "      <td>2.6</td>\n",
       "      <td>0</td>\n",
       "      <td>0</td>\n",
       "      <td>3</td>\n",
       "      <td>0</td>\n",
       "    </tr>\n",
       "    <tr>\n",
       "      <th>3</th>\n",
       "      <td>61</td>\n",
       "      <td>1</td>\n",
       "      <td>0</td>\n",
       "      <td>148</td>\n",
       "      <td>203</td>\n",
       "      <td>0</td>\n",
       "      <td>1</td>\n",
       "      <td>161</td>\n",
       "      <td>0</td>\n",
       "      <td>0.0</td>\n",
       "      <td>2</td>\n",
       "      <td>1</td>\n",
       "      <td>3</td>\n",
       "      <td>0</td>\n",
       "    </tr>\n",
       "    <tr>\n",
       "      <th>4</th>\n",
       "      <td>62</td>\n",
       "      <td>0</td>\n",
       "      <td>0</td>\n",
       "      <td>138</td>\n",
       "      <td>294</td>\n",
       "      <td>1</td>\n",
       "      <td>1</td>\n",
       "      <td>106</td>\n",
       "      <td>0</td>\n",
       "      <td>1.9</td>\n",
       "      <td>1</td>\n",
       "      <td>3</td>\n",
       "      <td>2</td>\n",
       "      <td>0</td>\n",
       "    </tr>\n",
       "  </tbody>\n",
       "</table>\n",
       "</div>"
      ],
      "text/plain": [
       "   age  sex  cp  trestbps  chol  fbs  restecg  thalach  exang  oldpeak  slope  \\\n",
       "0   52    1   0       125   212    0        1      168      0      1.0      2   \n",
       "1   53    1   0       140   203    1        0      155      1      3.1      0   \n",
       "2   70    1   0       145   174    0        1      125      1      2.6      0   \n",
       "3   61    1   0       148   203    0        1      161      0      0.0      2   \n",
       "4   62    0   0       138   294    1        1      106      0      1.9      1   \n",
       "\n",
       "   ca  thal  target  \n",
       "0   2     3       0  \n",
       "1   0     3       0  \n",
       "2   0     3       0  \n",
       "3   1     3       0  \n",
       "4   3     2       0  "
      ]
     },
     "execution_count": 3,
     "metadata": {},
     "output_type": "execute_result"
    }
   ],
   "source": [
    "# print first 5 rows of the dataset\n",
    "heart_data.head()"
   ]
  },
  {
   "cell_type": "code",
   "execution_count": 4,
   "id": "211b7a67",
   "metadata": {
    "execution": {
     "iopub.execute_input": "2023-06-27T21:50:32.561200Z",
     "iopub.status.busy": "2023-06-27T21:50:32.559924Z",
     "iopub.status.idle": "2023-06-27T21:50:32.578599Z",
     "shell.execute_reply": "2023-06-27T21:50:32.577376Z"
    },
    "executionInfo": {
     "elapsed": 808,
     "status": "ok",
     "timestamp": 1653200234314,
     "user": {
      "displayName": "siddhardh selvam",
      "userId": "13966379820454708749"
     },
     "user_tz": -330
    },
    "id": "Fx_aCZDgrqdR",
    "outputId": "a8dea85c-ba32-493b-c199-354a6e4ce093",
    "papermill": {
     "duration": 0.040224,
     "end_time": "2023-06-27T21:50:32.581126",
     "exception": false,
     "start_time": "2023-06-27T21:50:32.540902",
     "status": "completed"
    },
    "tags": []
   },
   "outputs": [
    {
     "data": {
      "text/html": [
       "<div>\n",
       "<style scoped>\n",
       "    .dataframe tbody tr th:only-of-type {\n",
       "        vertical-align: middle;\n",
       "    }\n",
       "\n",
       "    .dataframe tbody tr th {\n",
       "        vertical-align: top;\n",
       "    }\n",
       "\n",
       "    .dataframe thead th {\n",
       "        text-align: right;\n",
       "    }\n",
       "</style>\n",
       "<table border=\"1\" class=\"dataframe\">\n",
       "  <thead>\n",
       "    <tr style=\"text-align: right;\">\n",
       "      <th></th>\n",
       "      <th>age</th>\n",
       "      <th>sex</th>\n",
       "      <th>cp</th>\n",
       "      <th>trestbps</th>\n",
       "      <th>chol</th>\n",
       "      <th>fbs</th>\n",
       "      <th>restecg</th>\n",
       "      <th>thalach</th>\n",
       "      <th>exang</th>\n",
       "      <th>oldpeak</th>\n",
       "      <th>slope</th>\n",
       "      <th>ca</th>\n",
       "      <th>thal</th>\n",
       "      <th>target</th>\n",
       "    </tr>\n",
       "  </thead>\n",
       "  <tbody>\n",
       "    <tr>\n",
       "      <th>1020</th>\n",
       "      <td>59</td>\n",
       "      <td>1</td>\n",
       "      <td>1</td>\n",
       "      <td>140</td>\n",
       "      <td>221</td>\n",
       "      <td>0</td>\n",
       "      <td>1</td>\n",
       "      <td>164</td>\n",
       "      <td>1</td>\n",
       "      <td>0.0</td>\n",
       "      <td>2</td>\n",
       "      <td>0</td>\n",
       "      <td>2</td>\n",
       "      <td>1</td>\n",
       "    </tr>\n",
       "    <tr>\n",
       "      <th>1021</th>\n",
       "      <td>60</td>\n",
       "      <td>1</td>\n",
       "      <td>0</td>\n",
       "      <td>125</td>\n",
       "      <td>258</td>\n",
       "      <td>0</td>\n",
       "      <td>0</td>\n",
       "      <td>141</td>\n",
       "      <td>1</td>\n",
       "      <td>2.8</td>\n",
       "      <td>1</td>\n",
       "      <td>1</td>\n",
       "      <td>3</td>\n",
       "      <td>0</td>\n",
       "    </tr>\n",
       "    <tr>\n",
       "      <th>1022</th>\n",
       "      <td>47</td>\n",
       "      <td>1</td>\n",
       "      <td>0</td>\n",
       "      <td>110</td>\n",
       "      <td>275</td>\n",
       "      <td>0</td>\n",
       "      <td>0</td>\n",
       "      <td>118</td>\n",
       "      <td>1</td>\n",
       "      <td>1.0</td>\n",
       "      <td>1</td>\n",
       "      <td>1</td>\n",
       "      <td>2</td>\n",
       "      <td>0</td>\n",
       "    </tr>\n",
       "    <tr>\n",
       "      <th>1023</th>\n",
       "      <td>50</td>\n",
       "      <td>0</td>\n",
       "      <td>0</td>\n",
       "      <td>110</td>\n",
       "      <td>254</td>\n",
       "      <td>0</td>\n",
       "      <td>0</td>\n",
       "      <td>159</td>\n",
       "      <td>0</td>\n",
       "      <td>0.0</td>\n",
       "      <td>2</td>\n",
       "      <td>0</td>\n",
       "      <td>2</td>\n",
       "      <td>1</td>\n",
       "    </tr>\n",
       "    <tr>\n",
       "      <th>1024</th>\n",
       "      <td>54</td>\n",
       "      <td>1</td>\n",
       "      <td>0</td>\n",
       "      <td>120</td>\n",
       "      <td>188</td>\n",
       "      <td>0</td>\n",
       "      <td>1</td>\n",
       "      <td>113</td>\n",
       "      <td>0</td>\n",
       "      <td>1.4</td>\n",
       "      <td>1</td>\n",
       "      <td>1</td>\n",
       "      <td>3</td>\n",
       "      <td>0</td>\n",
       "    </tr>\n",
       "  </tbody>\n",
       "</table>\n",
       "</div>"
      ],
      "text/plain": [
       "      age  sex  cp  trestbps  chol  fbs  restecg  thalach  exang  oldpeak  \\\n",
       "1020   59    1   1       140   221    0        1      164      1      0.0   \n",
       "1021   60    1   0       125   258    0        0      141      1      2.8   \n",
       "1022   47    1   0       110   275    0        0      118      1      1.0   \n",
       "1023   50    0   0       110   254    0        0      159      0      0.0   \n",
       "1024   54    1   0       120   188    0        1      113      0      1.4   \n",
       "\n",
       "      slope  ca  thal  target  \n",
       "1020      2   0     2       1  \n",
       "1021      1   1     3       0  \n",
       "1022      1   1     2       0  \n",
       "1023      2   0     2       1  \n",
       "1024      1   1     3       0  "
      ]
     },
     "execution_count": 4,
     "metadata": {},
     "output_type": "execute_result"
    }
   ],
   "source": [
    "# print last 5 rows of the dataset\n",
    "heart_data.tail()"
   ]
  },
  {
   "cell_type": "code",
   "execution_count": 5,
   "id": "50d64ab4",
   "metadata": {
    "execution": {
     "iopub.execute_input": "2023-06-27T21:50:32.619258Z",
     "iopub.status.busy": "2023-06-27T21:50:32.618386Z",
     "iopub.status.idle": "2023-06-27T21:50:32.625480Z",
     "shell.execute_reply": "2023-06-27T21:50:32.624586Z"
    },
    "executionInfo": {
     "elapsed": 28,
     "status": "ok",
     "timestamp": 1653200234314,
     "user": {
      "displayName": "siddhardh selvam",
      "userId": "13966379820454708749"
     },
     "user_tz": -330
    },
    "id": "8nX1tIzbrz0u",
    "outputId": "aed82820-3f95-4fc3-bd5a-21dcbd434fb7",
    "papermill": {
     "duration": 0.028689,
     "end_time": "2023-06-27T21:50:32.627668",
     "exception": false,
     "start_time": "2023-06-27T21:50:32.598979",
     "status": "completed"
    },
    "tags": []
   },
   "outputs": [
    {
     "data": {
      "text/plain": [
       "(1025, 14)"
      ]
     },
     "execution_count": 5,
     "metadata": {},
     "output_type": "execute_result"
    }
   ],
   "source": [
    "# number of rows and columns in the dataset\n",
    "heart_data.shape"
   ]
  },
  {
   "cell_type": "code",
   "execution_count": 6,
   "id": "e7f09be5",
   "metadata": {
    "execution": {
     "iopub.execute_input": "2023-06-27T21:50:32.665919Z",
     "iopub.status.busy": "2023-06-27T21:50:32.665172Z",
     "iopub.status.idle": "2023-06-27T21:50:32.692319Z",
     "shell.execute_reply": "2023-06-27T21:50:32.691266Z"
    },
    "executionInfo": {
     "elapsed": 26,
     "status": "ok",
     "timestamp": 1653200234315,
     "user": {
      "displayName": "siddhardh selvam",
      "userId": "13966379820454708749"
     },
     "user_tz": -330
    },
    "id": "7_xTcw1Sr6aJ",
    "outputId": "3dfcf6cf-f814-4b3b-f8be-57e2ea6ea7b2",
    "papermill": {
     "duration": 0.049179,
     "end_time": "2023-06-27T21:50:32.694900",
     "exception": false,
     "start_time": "2023-06-27T21:50:32.645721",
     "status": "completed"
    },
    "tags": []
   },
   "outputs": [
    {
     "name": "stdout",
     "output_type": "stream",
     "text": [
      "<class 'pandas.core.frame.DataFrame'>\n",
      "RangeIndex: 1025 entries, 0 to 1024\n",
      "Data columns (total 14 columns):\n",
      " #   Column    Non-Null Count  Dtype  \n",
      "---  ------    --------------  -----  \n",
      " 0   age       1025 non-null   int64  \n",
      " 1   sex       1025 non-null   int64  \n",
      " 2   cp        1025 non-null   int64  \n",
      " 3   trestbps  1025 non-null   int64  \n",
      " 4   chol      1025 non-null   int64  \n",
      " 5   fbs       1025 non-null   int64  \n",
      " 6   restecg   1025 non-null   int64  \n",
      " 7   thalach   1025 non-null   int64  \n",
      " 8   exang     1025 non-null   int64  \n",
      " 9   oldpeak   1025 non-null   float64\n",
      " 10  slope     1025 non-null   int64  \n",
      " 11  ca        1025 non-null   int64  \n",
      " 12  thal      1025 non-null   int64  \n",
      " 13  target    1025 non-null   int64  \n",
      "dtypes: float64(1), int64(13)\n",
      "memory usage: 112.2 KB\n"
     ]
    }
   ],
   "source": [
    "# getting some info about the data\n",
    "heart_data.info()"
   ]
  },
  {
   "cell_type": "code",
   "execution_count": 7,
   "id": "438b7449",
   "metadata": {
    "execution": {
     "iopub.execute_input": "2023-06-27T21:50:32.734553Z",
     "iopub.status.busy": "2023-06-27T21:50:32.734049Z",
     "iopub.status.idle": "2023-06-27T21:50:32.743821Z",
     "shell.execute_reply": "2023-06-27T21:50:32.742674Z"
    },
    "executionInfo": {
     "elapsed": 25,
     "status": "ok",
     "timestamp": 1653200234316,
     "user": {
      "displayName": "siddhardh selvam",
      "userId": "13966379820454708749"
     },
     "user_tz": -330
    },
    "id": "GjHtW31rsGlb",
    "outputId": "062af8fa-b836-480d-93dd-b84f335f0839",
    "papermill": {
     "duration": 0.033116,
     "end_time": "2023-06-27T21:50:32.746350",
     "exception": false,
     "start_time": "2023-06-27T21:50:32.713234",
     "status": "completed"
    },
    "tags": []
   },
   "outputs": [
    {
     "data": {
      "text/plain": [
       "age         0\n",
       "sex         0\n",
       "cp          0\n",
       "trestbps    0\n",
       "chol        0\n",
       "fbs         0\n",
       "restecg     0\n",
       "thalach     0\n",
       "exang       0\n",
       "oldpeak     0\n",
       "slope       0\n",
       "ca          0\n",
       "thal        0\n",
       "target      0\n",
       "dtype: int64"
      ]
     },
     "execution_count": 7,
     "metadata": {},
     "output_type": "execute_result"
    }
   ],
   "source": [
    "# checking for missing values\n",
    "heart_data.isnull().sum()"
   ]
  },
  {
   "cell_type": "code",
   "execution_count": 8,
   "id": "5687277e",
   "metadata": {
    "execution": {
     "iopub.execute_input": "2023-06-27T21:50:32.785512Z",
     "iopub.status.busy": "2023-06-27T21:50:32.784684Z",
     "iopub.status.idle": "2023-06-27T21:50:32.844696Z",
     "shell.execute_reply": "2023-06-27T21:50:32.843351Z"
    },
    "executionInfo": {
     "elapsed": 24,
     "status": "ok",
     "timestamp": 1653200234317,
     "user": {
      "displayName": "siddhardh selvam",
      "userId": "13966379820454708749"
     },
     "user_tz": -330
    },
    "id": "OHmcP7DJsSEP",
    "outputId": "b08b05fa-7f04-45bb-8f9b-c676a77834c3",
    "papermill": {
     "duration": 0.082937,
     "end_time": "2023-06-27T21:50:32.847454",
     "exception": false,
     "start_time": "2023-06-27T21:50:32.764517",
     "status": "completed"
    },
    "tags": []
   },
   "outputs": [
    {
     "data": {
      "text/html": [
       "<div>\n",
       "<style scoped>\n",
       "    .dataframe tbody tr th:only-of-type {\n",
       "        vertical-align: middle;\n",
       "    }\n",
       "\n",
       "    .dataframe tbody tr th {\n",
       "        vertical-align: top;\n",
       "    }\n",
       "\n",
       "    .dataframe thead th {\n",
       "        text-align: right;\n",
       "    }\n",
       "</style>\n",
       "<table border=\"1\" class=\"dataframe\">\n",
       "  <thead>\n",
       "    <tr style=\"text-align: right;\">\n",
       "      <th></th>\n",
       "      <th>age</th>\n",
       "      <th>sex</th>\n",
       "      <th>cp</th>\n",
       "      <th>trestbps</th>\n",
       "      <th>chol</th>\n",
       "      <th>fbs</th>\n",
       "      <th>restecg</th>\n",
       "      <th>thalach</th>\n",
       "      <th>exang</th>\n",
       "      <th>oldpeak</th>\n",
       "      <th>slope</th>\n",
       "      <th>ca</th>\n",
       "      <th>thal</th>\n",
       "      <th>target</th>\n",
       "    </tr>\n",
       "  </thead>\n",
       "  <tbody>\n",
       "    <tr>\n",
       "      <th>count</th>\n",
       "      <td>1025.000000</td>\n",
       "      <td>1025.000000</td>\n",
       "      <td>1025.000000</td>\n",
       "      <td>1025.000000</td>\n",
       "      <td>1025.00000</td>\n",
       "      <td>1025.000000</td>\n",
       "      <td>1025.000000</td>\n",
       "      <td>1025.000000</td>\n",
       "      <td>1025.000000</td>\n",
       "      <td>1025.000000</td>\n",
       "      <td>1025.000000</td>\n",
       "      <td>1025.000000</td>\n",
       "      <td>1025.000000</td>\n",
       "      <td>1025.000000</td>\n",
       "    </tr>\n",
       "    <tr>\n",
       "      <th>mean</th>\n",
       "      <td>54.434146</td>\n",
       "      <td>0.695610</td>\n",
       "      <td>0.942439</td>\n",
       "      <td>131.611707</td>\n",
       "      <td>246.00000</td>\n",
       "      <td>0.149268</td>\n",
       "      <td>0.529756</td>\n",
       "      <td>149.114146</td>\n",
       "      <td>0.336585</td>\n",
       "      <td>1.071512</td>\n",
       "      <td>1.385366</td>\n",
       "      <td>0.754146</td>\n",
       "      <td>2.323902</td>\n",
       "      <td>0.513171</td>\n",
       "    </tr>\n",
       "    <tr>\n",
       "      <th>std</th>\n",
       "      <td>9.072290</td>\n",
       "      <td>0.460373</td>\n",
       "      <td>1.029641</td>\n",
       "      <td>17.516718</td>\n",
       "      <td>51.59251</td>\n",
       "      <td>0.356527</td>\n",
       "      <td>0.527878</td>\n",
       "      <td>23.005724</td>\n",
       "      <td>0.472772</td>\n",
       "      <td>1.175053</td>\n",
       "      <td>0.617755</td>\n",
       "      <td>1.030798</td>\n",
       "      <td>0.620660</td>\n",
       "      <td>0.500070</td>\n",
       "    </tr>\n",
       "    <tr>\n",
       "      <th>min</th>\n",
       "      <td>29.000000</td>\n",
       "      <td>0.000000</td>\n",
       "      <td>0.000000</td>\n",
       "      <td>94.000000</td>\n",
       "      <td>126.00000</td>\n",
       "      <td>0.000000</td>\n",
       "      <td>0.000000</td>\n",
       "      <td>71.000000</td>\n",
       "      <td>0.000000</td>\n",
       "      <td>0.000000</td>\n",
       "      <td>0.000000</td>\n",
       "      <td>0.000000</td>\n",
       "      <td>0.000000</td>\n",
       "      <td>0.000000</td>\n",
       "    </tr>\n",
       "    <tr>\n",
       "      <th>25%</th>\n",
       "      <td>48.000000</td>\n",
       "      <td>0.000000</td>\n",
       "      <td>0.000000</td>\n",
       "      <td>120.000000</td>\n",
       "      <td>211.00000</td>\n",
       "      <td>0.000000</td>\n",
       "      <td>0.000000</td>\n",
       "      <td>132.000000</td>\n",
       "      <td>0.000000</td>\n",
       "      <td>0.000000</td>\n",
       "      <td>1.000000</td>\n",
       "      <td>0.000000</td>\n",
       "      <td>2.000000</td>\n",
       "      <td>0.000000</td>\n",
       "    </tr>\n",
       "    <tr>\n",
       "      <th>50%</th>\n",
       "      <td>56.000000</td>\n",
       "      <td>1.000000</td>\n",
       "      <td>1.000000</td>\n",
       "      <td>130.000000</td>\n",
       "      <td>240.00000</td>\n",
       "      <td>0.000000</td>\n",
       "      <td>1.000000</td>\n",
       "      <td>152.000000</td>\n",
       "      <td>0.000000</td>\n",
       "      <td>0.800000</td>\n",
       "      <td>1.000000</td>\n",
       "      <td>0.000000</td>\n",
       "      <td>2.000000</td>\n",
       "      <td>1.000000</td>\n",
       "    </tr>\n",
       "    <tr>\n",
       "      <th>75%</th>\n",
       "      <td>61.000000</td>\n",
       "      <td>1.000000</td>\n",
       "      <td>2.000000</td>\n",
       "      <td>140.000000</td>\n",
       "      <td>275.00000</td>\n",
       "      <td>0.000000</td>\n",
       "      <td>1.000000</td>\n",
       "      <td>166.000000</td>\n",
       "      <td>1.000000</td>\n",
       "      <td>1.800000</td>\n",
       "      <td>2.000000</td>\n",
       "      <td>1.000000</td>\n",
       "      <td>3.000000</td>\n",
       "      <td>1.000000</td>\n",
       "    </tr>\n",
       "    <tr>\n",
       "      <th>max</th>\n",
       "      <td>77.000000</td>\n",
       "      <td>1.000000</td>\n",
       "      <td>3.000000</td>\n",
       "      <td>200.000000</td>\n",
       "      <td>564.00000</td>\n",
       "      <td>1.000000</td>\n",
       "      <td>2.000000</td>\n",
       "      <td>202.000000</td>\n",
       "      <td>1.000000</td>\n",
       "      <td>6.200000</td>\n",
       "      <td>2.000000</td>\n",
       "      <td>4.000000</td>\n",
       "      <td>3.000000</td>\n",
       "      <td>1.000000</td>\n",
       "    </tr>\n",
       "  </tbody>\n",
       "</table>\n",
       "</div>"
      ],
      "text/plain": [
       "               age          sex           cp     trestbps        chol  \\\n",
       "count  1025.000000  1025.000000  1025.000000  1025.000000  1025.00000   \n",
       "mean     54.434146     0.695610     0.942439   131.611707   246.00000   \n",
       "std       9.072290     0.460373     1.029641    17.516718    51.59251   \n",
       "min      29.000000     0.000000     0.000000    94.000000   126.00000   \n",
       "25%      48.000000     0.000000     0.000000   120.000000   211.00000   \n",
       "50%      56.000000     1.000000     1.000000   130.000000   240.00000   \n",
       "75%      61.000000     1.000000     2.000000   140.000000   275.00000   \n",
       "max      77.000000     1.000000     3.000000   200.000000   564.00000   \n",
       "\n",
       "               fbs      restecg      thalach        exang      oldpeak  \\\n",
       "count  1025.000000  1025.000000  1025.000000  1025.000000  1025.000000   \n",
       "mean      0.149268     0.529756   149.114146     0.336585     1.071512   \n",
       "std       0.356527     0.527878    23.005724     0.472772     1.175053   \n",
       "min       0.000000     0.000000    71.000000     0.000000     0.000000   \n",
       "25%       0.000000     0.000000   132.000000     0.000000     0.000000   \n",
       "50%       0.000000     1.000000   152.000000     0.000000     0.800000   \n",
       "75%       0.000000     1.000000   166.000000     1.000000     1.800000   \n",
       "max       1.000000     2.000000   202.000000     1.000000     6.200000   \n",
       "\n",
       "             slope           ca         thal       target  \n",
       "count  1025.000000  1025.000000  1025.000000  1025.000000  \n",
       "mean      1.385366     0.754146     2.323902     0.513171  \n",
       "std       0.617755     1.030798     0.620660     0.500070  \n",
       "min       0.000000     0.000000     0.000000     0.000000  \n",
       "25%       1.000000     0.000000     2.000000     0.000000  \n",
       "50%       1.000000     0.000000     2.000000     1.000000  \n",
       "75%       2.000000     1.000000     3.000000     1.000000  \n",
       "max       2.000000     4.000000     3.000000     1.000000  "
      ]
     },
     "execution_count": 8,
     "metadata": {},
     "output_type": "execute_result"
    }
   ],
   "source": [
    "# statistical measures about the data\n",
    "heart_data.describe()"
   ]
  },
  {
   "cell_type": "markdown",
   "id": "3b921b63",
   "metadata": {
    "papermill": {
     "duration": 0.018771,
     "end_time": "2023-06-27T21:50:32.885263",
     "exception": false,
     "start_time": "2023-06-27T21:50:32.866492",
     "status": "completed"
    },
    "tags": []
   },
   "source": [
    "# Data Scaling"
   ]
  },
  {
   "cell_type": "code",
   "execution_count": 9,
   "id": "4da441a0",
   "metadata": {
    "execution": {
     "iopub.execute_input": "2023-06-27T21:50:32.925579Z",
     "iopub.status.busy": "2023-06-27T21:50:32.924914Z",
     "iopub.status.idle": "2023-06-27T21:50:32.933272Z",
     "shell.execute_reply": "2023-06-27T21:50:32.931970Z"
    },
    "executionInfo": {
     "elapsed": 24,
     "status": "ok",
     "timestamp": 1653200234318,
     "user": {
      "displayName": "siddhardh selvam",
      "userId": "13966379820454708749"
     },
     "user_tz": -330
    },
    "id": "4InaOSIUsfWP",
    "outputId": "fb25a289-d5e9-438f-d21d-f09474cacbc6",
    "papermill": {
     "duration": 0.031311,
     "end_time": "2023-06-27T21:50:32.935644",
     "exception": false,
     "start_time": "2023-06-27T21:50:32.904333",
     "status": "completed"
    },
    "tags": []
   },
   "outputs": [
    {
     "data": {
      "text/plain": [
       "1    526\n",
       "0    499\n",
       "Name: target, dtype: int64"
      ]
     },
     "execution_count": 9,
     "metadata": {},
     "output_type": "execute_result"
    }
   ],
   "source": [
    "# checking the distribution of Target Variable\n",
    "heart_data['target'].value_counts()"
   ]
  },
  {
   "cell_type": "markdown",
   "id": "4ff262c4",
   "metadata": {
    "id": "aSOBu4qDtJy5",
    "papermill": {
     "duration": 0.018427,
     "end_time": "2023-06-27T21:50:32.973546",
     "exception": false,
     "start_time": "2023-06-27T21:50:32.955119",
     "status": "completed"
    },
    "tags": []
   },
   "source": [
    "1 --> Defective Heart\n",
    "\n",
    "0 --> Healthy Heart"
   ]
  },
  {
   "cell_type": "markdown",
   "id": "00c0c5ea",
   "metadata": {
    "id": "tW8i4igjtPRC",
    "papermill": {
     "duration": 0.018473,
     "end_time": "2023-06-27T21:50:33.010923",
     "exception": false,
     "start_time": "2023-06-27T21:50:32.992450",
     "status": "completed"
    },
    "tags": []
   },
   "source": [
    "Splitting the Features and Target"
   ]
  },
  {
   "cell_type": "code",
   "execution_count": 10,
   "id": "f85aa3a4",
   "metadata": {
    "execution": {
     "iopub.execute_input": "2023-06-27T21:50:33.051140Z",
     "iopub.status.busy": "2023-06-27T21:50:33.050035Z",
     "iopub.status.idle": "2023-06-27T21:50:33.059618Z",
     "shell.execute_reply": "2023-06-27T21:50:33.058265Z"
    },
    "executionInfo": {
     "elapsed": 22,
     "status": "ok",
     "timestamp": 1653200234318,
     "user": {
      "displayName": "siddhardh selvam",
      "userId": "13966379820454708749"
     },
     "user_tz": -330
    },
    "id": "Q6yfbswrs7m3",
    "papermill": {
     "duration": 0.032748,
     "end_time": "2023-06-27T21:50:33.062474",
     "exception": false,
     "start_time": "2023-06-27T21:50:33.029726",
     "status": "completed"
    },
    "tags": []
   },
   "outputs": [],
   "source": [
    "X = heart_data.drop(columns='target', axis=1)\n",
    "Y = heart_data['target']"
   ]
  },
  {
   "cell_type": "code",
   "execution_count": 11,
   "id": "123b6ac4",
   "metadata": {
    "execution": {
     "iopub.execute_input": "2023-06-27T21:50:33.103363Z",
     "iopub.status.busy": "2023-06-27T21:50:33.102946Z",
     "iopub.status.idle": "2023-06-27T21:50:33.140646Z",
     "shell.execute_reply": "2023-06-27T21:50:33.139369Z"
    },
    "papermill": {
     "duration": 0.061633,
     "end_time": "2023-06-27T21:50:33.143384",
     "exception": false,
     "start_time": "2023-06-27T21:50:33.081751",
     "status": "completed"
    },
    "tags": []
   },
   "outputs": [
    {
     "data": {
      "text/html": [
       "<div>\n",
       "<style scoped>\n",
       "    .dataframe tbody tr th:only-of-type {\n",
       "        vertical-align: middle;\n",
       "    }\n",
       "\n",
       "    .dataframe tbody tr th {\n",
       "        vertical-align: top;\n",
       "    }\n",
       "\n",
       "    .dataframe thead th {\n",
       "        text-align: right;\n",
       "    }\n",
       "</style>\n",
       "<table border=\"1\" class=\"dataframe\">\n",
       "  <thead>\n",
       "    <tr style=\"text-align: right;\">\n",
       "      <th></th>\n",
       "      <th>age</th>\n",
       "      <th>sex</th>\n",
       "      <th>cp</th>\n",
       "      <th>trestbps</th>\n",
       "      <th>chol</th>\n",
       "      <th>fbs</th>\n",
       "      <th>restecg</th>\n",
       "      <th>thalach</th>\n",
       "      <th>exang</th>\n",
       "      <th>oldpeak</th>\n",
       "      <th>slope</th>\n",
       "      <th>ca</th>\n",
       "      <th>thal</th>\n",
       "    </tr>\n",
       "  </thead>\n",
       "  <tbody>\n",
       "    <tr>\n",
       "      <th>0</th>\n",
       "      <td>0.479167</td>\n",
       "      <td>1.0</td>\n",
       "      <td>0.000000</td>\n",
       "      <td>0.292453</td>\n",
       "      <td>0.196347</td>\n",
       "      <td>0.0</td>\n",
       "      <td>0.5</td>\n",
       "      <td>0.740458</td>\n",
       "      <td>0.0</td>\n",
       "      <td>0.161290</td>\n",
       "      <td>1.0</td>\n",
       "      <td>0.50</td>\n",
       "      <td>1.000000</td>\n",
       "    </tr>\n",
       "    <tr>\n",
       "      <th>1</th>\n",
       "      <td>0.500000</td>\n",
       "      <td>1.0</td>\n",
       "      <td>0.000000</td>\n",
       "      <td>0.433962</td>\n",
       "      <td>0.175799</td>\n",
       "      <td>1.0</td>\n",
       "      <td>0.0</td>\n",
       "      <td>0.641221</td>\n",
       "      <td>1.0</td>\n",
       "      <td>0.500000</td>\n",
       "      <td>0.0</td>\n",
       "      <td>0.00</td>\n",
       "      <td>1.000000</td>\n",
       "    </tr>\n",
       "    <tr>\n",
       "      <th>2</th>\n",
       "      <td>0.854167</td>\n",
       "      <td>1.0</td>\n",
       "      <td>0.000000</td>\n",
       "      <td>0.481132</td>\n",
       "      <td>0.109589</td>\n",
       "      <td>0.0</td>\n",
       "      <td>0.5</td>\n",
       "      <td>0.412214</td>\n",
       "      <td>1.0</td>\n",
       "      <td>0.419355</td>\n",
       "      <td>0.0</td>\n",
       "      <td>0.00</td>\n",
       "      <td>1.000000</td>\n",
       "    </tr>\n",
       "    <tr>\n",
       "      <th>3</th>\n",
       "      <td>0.666667</td>\n",
       "      <td>1.0</td>\n",
       "      <td>0.000000</td>\n",
       "      <td>0.509434</td>\n",
       "      <td>0.175799</td>\n",
       "      <td>0.0</td>\n",
       "      <td>0.5</td>\n",
       "      <td>0.687023</td>\n",
       "      <td>0.0</td>\n",
       "      <td>0.000000</td>\n",
       "      <td>1.0</td>\n",
       "      <td>0.25</td>\n",
       "      <td>1.000000</td>\n",
       "    </tr>\n",
       "    <tr>\n",
       "      <th>4</th>\n",
       "      <td>0.687500</td>\n",
       "      <td>0.0</td>\n",
       "      <td>0.000000</td>\n",
       "      <td>0.415094</td>\n",
       "      <td>0.383562</td>\n",
       "      <td>1.0</td>\n",
       "      <td>0.5</td>\n",
       "      <td>0.267176</td>\n",
       "      <td>0.0</td>\n",
       "      <td>0.306452</td>\n",
       "      <td>0.5</td>\n",
       "      <td>0.75</td>\n",
       "      <td>0.666667</td>\n",
       "    </tr>\n",
       "    <tr>\n",
       "      <th>...</th>\n",
       "      <td>...</td>\n",
       "      <td>...</td>\n",
       "      <td>...</td>\n",
       "      <td>...</td>\n",
       "      <td>...</td>\n",
       "      <td>...</td>\n",
       "      <td>...</td>\n",
       "      <td>...</td>\n",
       "      <td>...</td>\n",
       "      <td>...</td>\n",
       "      <td>...</td>\n",
       "      <td>...</td>\n",
       "      <td>...</td>\n",
       "    </tr>\n",
       "    <tr>\n",
       "      <th>1020</th>\n",
       "      <td>0.625000</td>\n",
       "      <td>1.0</td>\n",
       "      <td>0.333333</td>\n",
       "      <td>0.433962</td>\n",
       "      <td>0.216895</td>\n",
       "      <td>0.0</td>\n",
       "      <td>0.5</td>\n",
       "      <td>0.709924</td>\n",
       "      <td>1.0</td>\n",
       "      <td>0.000000</td>\n",
       "      <td>1.0</td>\n",
       "      <td>0.00</td>\n",
       "      <td>0.666667</td>\n",
       "    </tr>\n",
       "    <tr>\n",
       "      <th>1021</th>\n",
       "      <td>0.645833</td>\n",
       "      <td>1.0</td>\n",
       "      <td>0.000000</td>\n",
       "      <td>0.292453</td>\n",
       "      <td>0.301370</td>\n",
       "      <td>0.0</td>\n",
       "      <td>0.0</td>\n",
       "      <td>0.534351</td>\n",
       "      <td>1.0</td>\n",
       "      <td>0.451613</td>\n",
       "      <td>0.5</td>\n",
       "      <td>0.25</td>\n",
       "      <td>1.000000</td>\n",
       "    </tr>\n",
       "    <tr>\n",
       "      <th>1022</th>\n",
       "      <td>0.375000</td>\n",
       "      <td>1.0</td>\n",
       "      <td>0.000000</td>\n",
       "      <td>0.150943</td>\n",
       "      <td>0.340183</td>\n",
       "      <td>0.0</td>\n",
       "      <td>0.0</td>\n",
       "      <td>0.358779</td>\n",
       "      <td>1.0</td>\n",
       "      <td>0.161290</td>\n",
       "      <td>0.5</td>\n",
       "      <td>0.25</td>\n",
       "      <td>0.666667</td>\n",
       "    </tr>\n",
       "    <tr>\n",
       "      <th>1023</th>\n",
       "      <td>0.437500</td>\n",
       "      <td>0.0</td>\n",
       "      <td>0.000000</td>\n",
       "      <td>0.150943</td>\n",
       "      <td>0.292237</td>\n",
       "      <td>0.0</td>\n",
       "      <td>0.0</td>\n",
       "      <td>0.671756</td>\n",
       "      <td>0.0</td>\n",
       "      <td>0.000000</td>\n",
       "      <td>1.0</td>\n",
       "      <td>0.00</td>\n",
       "      <td>0.666667</td>\n",
       "    </tr>\n",
       "    <tr>\n",
       "      <th>1024</th>\n",
       "      <td>0.520833</td>\n",
       "      <td>1.0</td>\n",
       "      <td>0.000000</td>\n",
       "      <td>0.245283</td>\n",
       "      <td>0.141553</td>\n",
       "      <td>0.0</td>\n",
       "      <td>0.5</td>\n",
       "      <td>0.320611</td>\n",
       "      <td>0.0</td>\n",
       "      <td>0.225806</td>\n",
       "      <td>0.5</td>\n",
       "      <td>0.25</td>\n",
       "      <td>1.000000</td>\n",
       "    </tr>\n",
       "  </tbody>\n",
       "</table>\n",
       "<p>1025 rows × 13 columns</p>\n",
       "</div>"
      ],
      "text/plain": [
       "           age  sex        cp  trestbps      chol  fbs  restecg   thalach  \\\n",
       "0     0.479167  1.0  0.000000  0.292453  0.196347  0.0      0.5  0.740458   \n",
       "1     0.500000  1.0  0.000000  0.433962  0.175799  1.0      0.0  0.641221   \n",
       "2     0.854167  1.0  0.000000  0.481132  0.109589  0.0      0.5  0.412214   \n",
       "3     0.666667  1.0  0.000000  0.509434  0.175799  0.0      0.5  0.687023   \n",
       "4     0.687500  0.0  0.000000  0.415094  0.383562  1.0      0.5  0.267176   \n",
       "...        ...  ...       ...       ...       ...  ...      ...       ...   \n",
       "1020  0.625000  1.0  0.333333  0.433962  0.216895  0.0      0.5  0.709924   \n",
       "1021  0.645833  1.0  0.000000  0.292453  0.301370  0.0      0.0  0.534351   \n",
       "1022  0.375000  1.0  0.000000  0.150943  0.340183  0.0      0.0  0.358779   \n",
       "1023  0.437500  0.0  0.000000  0.150943  0.292237  0.0      0.0  0.671756   \n",
       "1024  0.520833  1.0  0.000000  0.245283  0.141553  0.0      0.5  0.320611   \n",
       "\n",
       "      exang   oldpeak  slope    ca      thal  \n",
       "0       0.0  0.161290    1.0  0.50  1.000000  \n",
       "1       1.0  0.500000    0.0  0.00  1.000000  \n",
       "2       1.0  0.419355    0.0  0.00  1.000000  \n",
       "3       0.0  0.000000    1.0  0.25  1.000000  \n",
       "4       0.0  0.306452    0.5  0.75  0.666667  \n",
       "...     ...       ...    ...   ...       ...  \n",
       "1020    1.0  0.000000    1.0  0.00  0.666667  \n",
       "1021    1.0  0.451613    0.5  0.25  1.000000  \n",
       "1022    1.0  0.161290    0.5  0.25  0.666667  \n",
       "1023    0.0  0.000000    1.0  0.00  0.666667  \n",
       "1024    0.0  0.225806    0.5  0.25  1.000000  \n",
       "\n",
       "[1025 rows x 13 columns]"
      ]
     },
     "execution_count": 11,
     "metadata": {},
     "output_type": "execute_result"
    }
   ],
   "source": [
    "scaler = MinMaxScaler()\n",
    "X = pd.DataFrame(scaler.fit_transform(X) , columns = X.columns)\n",
    "X"
   ]
  },
  {
   "cell_type": "code",
   "execution_count": 12,
   "id": "7039cde5",
   "metadata": {
    "execution": {
     "iopub.execute_input": "2023-06-27T21:50:33.184374Z",
     "iopub.status.busy": "2023-06-27T21:50:33.183941Z",
     "iopub.status.idle": "2023-06-27T21:50:33.193110Z",
     "shell.execute_reply": "2023-06-27T21:50:33.192038Z"
    },
    "executionInfo": {
     "elapsed": 21,
     "status": "ok",
     "timestamp": 1653200234319,
     "user": {
      "displayName": "siddhardh selvam",
      "userId": "13966379820454708749"
     },
     "user_tz": -330
    },
    "id": "nukuj-YItq1w",
    "outputId": "ee5e6451-0b29-4a02-aebf-24367d73874b",
    "papermill": {
     "duration": 0.032466,
     "end_time": "2023-06-27T21:50:33.195689",
     "exception": false,
     "start_time": "2023-06-27T21:50:33.163223",
     "status": "completed"
    },
    "tags": []
   },
   "outputs": [
    {
     "data": {
      "text/plain": [
       "0       0\n",
       "1       0\n",
       "2       0\n",
       "3       0\n",
       "4       0\n",
       "       ..\n",
       "1020    1\n",
       "1021    0\n",
       "1022    0\n",
       "1023    1\n",
       "1024    0\n",
       "Name: target, Length: 1025, dtype: int64"
      ]
     },
     "execution_count": 12,
     "metadata": {},
     "output_type": "execute_result"
    }
   ],
   "source": [
    "Y"
   ]
  },
  {
   "cell_type": "code",
   "execution_count": 13,
   "id": "bb8bec93",
   "metadata": {
    "execution": {
     "iopub.execute_input": "2023-06-27T21:50:33.238553Z",
     "iopub.status.busy": "2023-06-27T21:50:33.237364Z",
     "iopub.status.idle": "2023-06-27T21:50:33.248140Z",
     "shell.execute_reply": "2023-06-27T21:50:33.247112Z"
    },
    "executionInfo": {
     "elapsed": 20,
     "status": "ok",
     "timestamp": 1653200234319,
     "user": {
      "displayName": "siddhardh selvam",
      "userId": "13966379820454708749"
     },
     "user_tz": -330
    },
    "id": "a-UUfRUxtuga",
    "papermill": {
     "duration": 0.03448,
     "end_time": "2023-06-27T21:50:33.250729",
     "exception": false,
     "start_time": "2023-06-27T21:50:33.216249",
     "status": "completed"
    },
    "tags": []
   },
   "outputs": [],
   "source": [
    "#Splitting Data into Training data & Testing Data\n",
    "\n",
    "X_train, X_test, Y_train, Y_test = train_test_split(X, Y, test_size=0.2, stratify=Y, random_state=2)"
   ]
  },
  {
   "cell_type": "code",
   "execution_count": 14,
   "id": "85765d9d",
   "metadata": {
    "execution": {
     "iopub.execute_input": "2023-06-27T21:50:33.291828Z",
     "iopub.status.busy": "2023-06-27T21:50:33.291191Z",
     "iopub.status.idle": "2023-06-27T21:50:33.296536Z",
     "shell.execute_reply": "2023-06-27T21:50:33.295707Z"
    },
    "executionInfo": {
     "elapsed": 21,
     "status": "ok",
     "timestamp": 1653200234320,
     "user": {
      "displayName": "siddhardh selvam",
      "userId": "13966379820454708749"
     },
     "user_tz": -330
    },
    "id": "x7PrjC6zuf6X",
    "outputId": "d78b7e79-4659-4101-c9d6-61df1d0d5981",
    "papermill": {
     "duration": 0.029036,
     "end_time": "2023-06-27T21:50:33.299359",
     "exception": false,
     "start_time": "2023-06-27T21:50:33.270323",
     "status": "completed"
    },
    "tags": []
   },
   "outputs": [
    {
     "name": "stdout",
     "output_type": "stream",
     "text": [
      "(1025, 13) (820, 13) (205, 13)\n"
     ]
    }
   ],
   "source": [
    "print(X.shape, X_train.shape, X_test.shape)"
   ]
  },
  {
   "cell_type": "markdown",
   "id": "b8382e4a",
   "metadata": {
    "id": "beSkZmpVuvn9",
    "papermill": {
     "duration": 0.019426,
     "end_time": "2023-06-27T21:50:33.338438",
     "exception": false,
     "start_time": "2023-06-27T21:50:33.319012",
     "status": "completed"
    },
    "tags": []
   },
   "source": [
    "# Model Training & Evaluation"
   ]
  },
  {
   "cell_type": "markdown",
   "id": "77d4ab91",
   "metadata": {
    "id": "gi2NOWZjuxzw",
    "papermill": {
     "duration": 0.019507,
     "end_time": "2023-06-27T21:50:33.377597",
     "exception": false,
     "start_time": "2023-06-27T21:50:33.358090",
     "status": "completed"
    },
    "tags": []
   },
   "source": [
    "### Logistic Regression"
   ]
  },
  {
   "cell_type": "code",
   "execution_count": 15,
   "id": "b6d03033",
   "metadata": {
    "execution": {
     "iopub.execute_input": "2023-06-27T21:50:33.419490Z",
     "iopub.status.busy": "2023-06-27T21:50:33.418943Z",
     "iopub.status.idle": "2023-06-27T21:50:33.471427Z",
     "shell.execute_reply": "2023-06-27T21:50:33.469839Z"
    },
    "executionInfo": {
     "elapsed": 20,
     "status": "ok",
     "timestamp": 1653200234320,
     "user": {
      "displayName": "siddhardh selvam",
      "userId": "13966379820454708749"
     },
     "user_tz": -330
    },
    "id": "4-Md74FYuqNL",
    "papermill": {
     "duration": 0.078306,
     "end_time": "2023-06-27T21:50:33.475828",
     "exception": false,
     "start_time": "2023-06-27T21:50:33.397522",
     "status": "completed"
    },
    "tags": []
   },
   "outputs": [
    {
     "data": {
      "text/html": [
       "<style>#sk-container-id-1 {color: black;background-color: white;}#sk-container-id-1 pre{padding: 0;}#sk-container-id-1 div.sk-toggleable {background-color: white;}#sk-container-id-1 label.sk-toggleable__label {cursor: pointer;display: block;width: 100%;margin-bottom: 0;padding: 0.3em;box-sizing: border-box;text-align: center;}#sk-container-id-1 label.sk-toggleable__label-arrow:before {content: \"▸\";float: left;margin-right: 0.25em;color: #696969;}#sk-container-id-1 label.sk-toggleable__label-arrow:hover:before {color: black;}#sk-container-id-1 div.sk-estimator:hover label.sk-toggleable__label-arrow:before {color: black;}#sk-container-id-1 div.sk-toggleable__content {max-height: 0;max-width: 0;overflow: hidden;text-align: left;background-color: #f0f8ff;}#sk-container-id-1 div.sk-toggleable__content pre {margin: 0.2em;color: black;border-radius: 0.25em;background-color: #f0f8ff;}#sk-container-id-1 input.sk-toggleable__control:checked~div.sk-toggleable__content {max-height: 200px;max-width: 100%;overflow: auto;}#sk-container-id-1 input.sk-toggleable__control:checked~label.sk-toggleable__label-arrow:before {content: \"▾\";}#sk-container-id-1 div.sk-estimator input.sk-toggleable__control:checked~label.sk-toggleable__label {background-color: #d4ebff;}#sk-container-id-1 div.sk-label input.sk-toggleable__control:checked~label.sk-toggleable__label {background-color: #d4ebff;}#sk-container-id-1 input.sk-hidden--visually {border: 0;clip: rect(1px 1px 1px 1px);clip: rect(1px, 1px, 1px, 1px);height: 1px;margin: -1px;overflow: hidden;padding: 0;position: absolute;width: 1px;}#sk-container-id-1 div.sk-estimator {font-family: monospace;background-color: #f0f8ff;border: 1px dotted black;border-radius: 0.25em;box-sizing: border-box;margin-bottom: 0.5em;}#sk-container-id-1 div.sk-estimator:hover {background-color: #d4ebff;}#sk-container-id-1 div.sk-parallel-item::after {content: \"\";width: 100%;border-bottom: 1px solid gray;flex-grow: 1;}#sk-container-id-1 div.sk-label:hover label.sk-toggleable__label {background-color: #d4ebff;}#sk-container-id-1 div.sk-serial::before {content: \"\";position: absolute;border-left: 1px solid gray;box-sizing: border-box;top: 0;bottom: 0;left: 50%;z-index: 0;}#sk-container-id-1 div.sk-serial {display: flex;flex-direction: column;align-items: center;background-color: white;padding-right: 0.2em;padding-left: 0.2em;position: relative;}#sk-container-id-1 div.sk-item {position: relative;z-index: 1;}#sk-container-id-1 div.sk-parallel {display: flex;align-items: stretch;justify-content: center;background-color: white;position: relative;}#sk-container-id-1 div.sk-item::before, #sk-container-id-1 div.sk-parallel-item::before {content: \"\";position: absolute;border-left: 1px solid gray;box-sizing: border-box;top: 0;bottom: 0;left: 50%;z-index: -1;}#sk-container-id-1 div.sk-parallel-item {display: flex;flex-direction: column;z-index: 1;position: relative;background-color: white;}#sk-container-id-1 div.sk-parallel-item:first-child::after {align-self: flex-end;width: 50%;}#sk-container-id-1 div.sk-parallel-item:last-child::after {align-self: flex-start;width: 50%;}#sk-container-id-1 div.sk-parallel-item:only-child::after {width: 0;}#sk-container-id-1 div.sk-dashed-wrapped {border: 1px dashed gray;margin: 0 0.4em 0.5em 0.4em;box-sizing: border-box;padding-bottom: 0.4em;background-color: white;}#sk-container-id-1 div.sk-label label {font-family: monospace;font-weight: bold;display: inline-block;line-height: 1.2em;}#sk-container-id-1 div.sk-label-container {text-align: center;}#sk-container-id-1 div.sk-container {/* jupyter's `normalize.less` sets `[hidden] { display: none; }` but bootstrap.min.css set `[hidden] { display: none !important; }` so we also need the `!important` here to be able to override the default hidden behavior on the sphinx rendered scikit-learn.org. See: https://github.com/scikit-learn/scikit-learn/issues/21755 */display: inline-block !important;position: relative;}#sk-container-id-1 div.sk-text-repr-fallback {display: none;}</style><div id=\"sk-container-id-1\" class=\"sk-top-container\"><div class=\"sk-text-repr-fallback\"><pre>LogisticRegression(random_state=0)</pre><b>In a Jupyter environment, please rerun this cell to show the HTML representation or trust the notebook. <br />On GitHub, the HTML representation is unable to render, please try loading this page with nbviewer.org.</b></div><div class=\"sk-container\" hidden><div class=\"sk-item\"><div class=\"sk-estimator sk-toggleable\"><input class=\"sk-toggleable__control sk-hidden--visually\" id=\"sk-estimator-id-1\" type=\"checkbox\" checked><label for=\"sk-estimator-id-1\" class=\"sk-toggleable__label sk-toggleable__label-arrow\">LogisticRegression</label><div class=\"sk-toggleable__content\"><pre>LogisticRegression(random_state=0)</pre></div></div></div></div></div>"
      ],
      "text/plain": [
       "LogisticRegression(random_state=0)"
      ]
     },
     "execution_count": 15,
     "metadata": {},
     "output_type": "execute_result"
    }
   ],
   "source": [
    "logistic_reg = LogisticRegression(random_state = 0)\n",
    "logistic_reg.fit(X_train, Y_train) # Training"
   ]
  },
  {
   "cell_type": "code",
   "execution_count": 16,
   "id": "4429d6ba",
   "metadata": {
    "execution": {
     "iopub.execute_input": "2023-06-27T21:50:33.562378Z",
     "iopub.status.busy": "2023-06-27T21:50:33.561666Z",
     "iopub.status.idle": "2023-06-27T21:50:33.583705Z",
     "shell.execute_reply": "2023-06-27T21:50:33.582229Z"
    },
    "executionInfo": {
     "elapsed": 18,
     "status": "ok",
     "timestamp": 1653200234321,
     "user": {
      "displayName": "siddhardh selvam",
      "userId": "13966379820454708749"
     },
     "user_tz": -330
    },
    "id": "g19JaUTMvPKy",
    "papermill": {
     "duration": 0.069963,
     "end_time": "2023-06-27T21:50:33.588383",
     "exception": false,
     "start_time": "2023-06-27T21:50:33.518420",
     "status": "completed"
    },
    "tags": []
   },
   "outputs": [
    {
     "name": "stdout",
     "output_type": "stream",
     "text": [
      "Accuracy on Training data :  0.8621951219512195\n"
     ]
    }
   ],
   "source": [
    "# accuracy on training data\n",
    "X_train_prediction1 = logistic_reg.predict(X_train)\n",
    "training_data_accuracy = accuracy_score(X_train_prediction1, Y_train)\n",
    "\n",
    "print('Accuracy on Training data : ', training_data_accuracy)"
   ]
  },
  {
   "cell_type": "code",
   "execution_count": 17,
   "id": "6b4b0dd6",
   "metadata": {
    "execution": {
     "iopub.execute_input": "2023-06-27T21:50:33.675325Z",
     "iopub.status.busy": "2023-06-27T21:50:33.674649Z",
     "iopub.status.idle": "2023-06-27T21:50:33.693912Z",
     "shell.execute_reply": "2023-06-27T21:50:33.692542Z"
    },
    "executionInfo": {
     "elapsed": 12,
     "status": "ok",
     "timestamp": 1653200234908,
     "user": {
      "displayName": "siddhardh selvam",
      "userId": "13966379820454708749"
     },
     "user_tz": -330
    },
    "id": "mDONDJdlwBIO",
    "papermill": {
     "duration": 0.066137,
     "end_time": "2023-06-27T21:50:33.697034",
     "exception": false,
     "start_time": "2023-06-27T21:50:33.630897",
     "status": "completed"
    },
    "tags": []
   },
   "outputs": [
    {
     "name": "stdout",
     "output_type": "stream",
     "text": [
      "Accuracy on Test data :  0.8195121951219512\n"
     ]
    }
   ],
   "source": [
    "# accuracy on test data\n",
    "X_test_prediction1 = logistic_reg.predict(X_test)\n",
    "test_data_accuracy = accuracy_score(X_test_prediction1, Y_test)\n",
    "print('Accuracy on Test data : ', test_data_accuracy)"
   ]
  },
  {
   "cell_type": "code",
   "execution_count": 18,
   "id": "1c3badbc",
   "metadata": {
    "execution": {
     "iopub.execute_input": "2023-06-27T21:50:33.739400Z",
     "iopub.status.busy": "2023-06-27T21:50:33.738602Z",
     "iopub.status.idle": "2023-06-27T21:50:33.752105Z",
     "shell.execute_reply": "2023-06-27T21:50:33.750880Z"
    },
    "papermill": {
     "duration": 0.037552,
     "end_time": "2023-06-27T21:50:33.754555",
     "exception": false,
     "start_time": "2023-06-27T21:50:33.717003",
     "status": "completed"
    },
    "tags": []
   },
   "outputs": [
    {
     "name": "stdout",
     "output_type": "stream",
     "text": [
      "              precision    recall  f1-score   support\n",
      "\n",
      "           0       0.85      0.76      0.80       100\n",
      "           1       0.79      0.88      0.83       105\n",
      "\n",
      "    accuracy                           0.82       205\n",
      "   macro avg       0.82      0.82      0.82       205\n",
      "weighted avg       0.82      0.82      0.82       205\n",
      "\n"
     ]
    }
   ],
   "source": [
    "# Confusion Matrix\n",
    "print(classification_report(Y_test , X_test_prediction1))"
   ]
  },
  {
   "cell_type": "markdown",
   "id": "83a4727e",
   "metadata": {
    "papermill": {
     "duration": 0.01995,
     "end_time": "2023-06-27T21:50:33.794751",
     "exception": false,
     "start_time": "2023-06-27T21:50:33.774801",
     "status": "completed"
    },
    "tags": []
   },
   "source": [
    "### Decision Tree Classifier"
   ]
  },
  {
   "cell_type": "code",
   "execution_count": 19,
   "id": "cc13f33e",
   "metadata": {
    "execution": {
     "iopub.execute_input": "2023-06-27T21:50:33.837136Z",
     "iopub.status.busy": "2023-06-27T21:50:33.836284Z",
     "iopub.status.idle": "2023-06-27T21:50:33.852409Z",
     "shell.execute_reply": "2023-06-27T21:50:33.851495Z"
    },
    "papermill": {
     "duration": 0.039832,
     "end_time": "2023-06-27T21:50:33.854725",
     "exception": false,
     "start_time": "2023-06-27T21:50:33.814893",
     "status": "completed"
    },
    "tags": []
   },
   "outputs": [
    {
     "data": {
      "text/html": [
       "<style>#sk-container-id-2 {color: black;background-color: white;}#sk-container-id-2 pre{padding: 0;}#sk-container-id-2 div.sk-toggleable {background-color: white;}#sk-container-id-2 label.sk-toggleable__label {cursor: pointer;display: block;width: 100%;margin-bottom: 0;padding: 0.3em;box-sizing: border-box;text-align: center;}#sk-container-id-2 label.sk-toggleable__label-arrow:before {content: \"▸\";float: left;margin-right: 0.25em;color: #696969;}#sk-container-id-2 label.sk-toggleable__label-arrow:hover:before {color: black;}#sk-container-id-2 div.sk-estimator:hover label.sk-toggleable__label-arrow:before {color: black;}#sk-container-id-2 div.sk-toggleable__content {max-height: 0;max-width: 0;overflow: hidden;text-align: left;background-color: #f0f8ff;}#sk-container-id-2 div.sk-toggleable__content pre {margin: 0.2em;color: black;border-radius: 0.25em;background-color: #f0f8ff;}#sk-container-id-2 input.sk-toggleable__control:checked~div.sk-toggleable__content {max-height: 200px;max-width: 100%;overflow: auto;}#sk-container-id-2 input.sk-toggleable__control:checked~label.sk-toggleable__label-arrow:before {content: \"▾\";}#sk-container-id-2 div.sk-estimator input.sk-toggleable__control:checked~label.sk-toggleable__label {background-color: #d4ebff;}#sk-container-id-2 div.sk-label input.sk-toggleable__control:checked~label.sk-toggleable__label {background-color: #d4ebff;}#sk-container-id-2 input.sk-hidden--visually {border: 0;clip: rect(1px 1px 1px 1px);clip: rect(1px, 1px, 1px, 1px);height: 1px;margin: -1px;overflow: hidden;padding: 0;position: absolute;width: 1px;}#sk-container-id-2 div.sk-estimator {font-family: monospace;background-color: #f0f8ff;border: 1px dotted black;border-radius: 0.25em;box-sizing: border-box;margin-bottom: 0.5em;}#sk-container-id-2 div.sk-estimator:hover {background-color: #d4ebff;}#sk-container-id-2 div.sk-parallel-item::after {content: \"\";width: 100%;border-bottom: 1px solid gray;flex-grow: 1;}#sk-container-id-2 div.sk-label:hover label.sk-toggleable__label {background-color: #d4ebff;}#sk-container-id-2 div.sk-serial::before {content: \"\";position: absolute;border-left: 1px solid gray;box-sizing: border-box;top: 0;bottom: 0;left: 50%;z-index: 0;}#sk-container-id-2 div.sk-serial {display: flex;flex-direction: column;align-items: center;background-color: white;padding-right: 0.2em;padding-left: 0.2em;position: relative;}#sk-container-id-2 div.sk-item {position: relative;z-index: 1;}#sk-container-id-2 div.sk-parallel {display: flex;align-items: stretch;justify-content: center;background-color: white;position: relative;}#sk-container-id-2 div.sk-item::before, #sk-container-id-2 div.sk-parallel-item::before {content: \"\";position: absolute;border-left: 1px solid gray;box-sizing: border-box;top: 0;bottom: 0;left: 50%;z-index: -1;}#sk-container-id-2 div.sk-parallel-item {display: flex;flex-direction: column;z-index: 1;position: relative;background-color: white;}#sk-container-id-2 div.sk-parallel-item:first-child::after {align-self: flex-end;width: 50%;}#sk-container-id-2 div.sk-parallel-item:last-child::after {align-self: flex-start;width: 50%;}#sk-container-id-2 div.sk-parallel-item:only-child::after {width: 0;}#sk-container-id-2 div.sk-dashed-wrapped {border: 1px dashed gray;margin: 0 0.4em 0.5em 0.4em;box-sizing: border-box;padding-bottom: 0.4em;background-color: white;}#sk-container-id-2 div.sk-label label {font-family: monospace;font-weight: bold;display: inline-block;line-height: 1.2em;}#sk-container-id-2 div.sk-label-container {text-align: center;}#sk-container-id-2 div.sk-container {/* jupyter's `normalize.less` sets `[hidden] { display: none; }` but bootstrap.min.css set `[hidden] { display: none !important; }` so we also need the `!important` here to be able to override the default hidden behavior on the sphinx rendered scikit-learn.org. See: https://github.com/scikit-learn/scikit-learn/issues/21755 */display: inline-block !important;position: relative;}#sk-container-id-2 div.sk-text-repr-fallback {display: none;}</style><div id=\"sk-container-id-2\" class=\"sk-top-container\"><div class=\"sk-text-repr-fallback\"><pre>DecisionTreeClassifier(max_depth=5, min_samples_split=5, random_state=0)</pre><b>In a Jupyter environment, please rerun this cell to show the HTML representation or trust the notebook. <br />On GitHub, the HTML representation is unable to render, please try loading this page with nbviewer.org.</b></div><div class=\"sk-container\" hidden><div class=\"sk-item\"><div class=\"sk-estimator sk-toggleable\"><input class=\"sk-toggleable__control sk-hidden--visually\" id=\"sk-estimator-id-2\" type=\"checkbox\" checked><label for=\"sk-estimator-id-2\" class=\"sk-toggleable__label sk-toggleable__label-arrow\">DecisionTreeClassifier</label><div class=\"sk-toggleable__content\"><pre>DecisionTreeClassifier(max_depth=5, min_samples_split=5, random_state=0)</pre></div></div></div></div></div>"
      ],
      "text/plain": [
       "DecisionTreeClassifier(max_depth=5, min_samples_split=5, random_state=0)"
      ]
     },
     "execution_count": 19,
     "metadata": {},
     "output_type": "execute_result"
    }
   ],
   "source": [
    "dec_tree_clf = DecisionTreeClassifier(random_state=0, max_depth = 5 , min_samples_leaf = 1 , min_samples_split = 5) \n",
    "dec_tree_clf.fit(X_train, Y_train)  # fits the data"
   ]
  },
  {
   "cell_type": "code",
   "execution_count": 20,
   "id": "60bbfe15",
   "metadata": {
    "execution": {
     "iopub.execute_input": "2023-06-27T21:50:33.899279Z",
     "iopub.status.busy": "2023-06-27T21:50:33.898061Z",
     "iopub.status.idle": "2023-06-27T21:50:33.908822Z",
     "shell.execute_reply": "2023-06-27T21:50:33.907647Z"
    },
    "papermill": {
     "duration": 0.035404,
     "end_time": "2023-06-27T21:50:33.911145",
     "exception": false,
     "start_time": "2023-06-27T21:50:33.875741",
     "status": "completed"
    },
    "tags": []
   },
   "outputs": [
    {
     "name": "stdout",
     "output_type": "stream",
     "text": [
      "Accuracy on Training data :  0.9365853658536586\n"
     ]
    }
   ],
   "source": [
    "# accuracy on training data\n",
    "X_train_prediction2 = dec_tree_clf.predict(X_train)\n",
    "training_data_accuracy = accuracy_score(X_train_prediction2, Y_train)\n",
    "print('Accuracy on Training data : ', training_data_accuracy)"
   ]
  },
  {
   "cell_type": "code",
   "execution_count": 21,
   "id": "54355dd6",
   "metadata": {
    "execution": {
     "iopub.execute_input": "2023-06-27T21:50:33.954819Z",
     "iopub.status.busy": "2023-06-27T21:50:33.954075Z",
     "iopub.status.idle": "2023-06-27T21:50:33.964207Z",
     "shell.execute_reply": "2023-06-27T21:50:33.962922Z"
    },
    "papermill": {
     "duration": 0.03522,
     "end_time": "2023-06-27T21:50:33.966875",
     "exception": false,
     "start_time": "2023-06-27T21:50:33.931655",
     "status": "completed"
    },
    "tags": []
   },
   "outputs": [
    {
     "name": "stdout",
     "output_type": "stream",
     "text": [
      "Accuracy on Test data :  0.8829268292682927\n"
     ]
    }
   ],
   "source": [
    "# accuracy on test data\n",
    "X_test_prediction2 = dec_tree_clf.predict(X_test)\n",
    "test_data_accuracy = accuracy_score(X_test_prediction2, Y_test)\n",
    "print('Accuracy on Test data : ', test_data_accuracy)"
   ]
  },
  {
   "cell_type": "code",
   "execution_count": 22,
   "id": "84b0e036",
   "metadata": {
    "execution": {
     "iopub.execute_input": "2023-06-27T21:50:34.010718Z",
     "iopub.status.busy": "2023-06-27T21:50:34.010297Z",
     "iopub.status.idle": "2023-06-27T21:50:34.025612Z",
     "shell.execute_reply": "2023-06-27T21:50:34.024254Z"
    },
    "papermill": {
     "duration": 0.040663,
     "end_time": "2023-06-27T21:50:34.028280",
     "exception": false,
     "start_time": "2023-06-27T21:50:33.987617",
     "status": "completed"
    },
    "tags": []
   },
   "outputs": [
    {
     "name": "stdout",
     "output_type": "stream",
     "text": [
      "              precision    recall  f1-score   support\n",
      "\n",
      "           0       0.87      0.90      0.88       100\n",
      "           1       0.90      0.87      0.88       105\n",
      "\n",
      "    accuracy                           0.88       205\n",
      "   macro avg       0.88      0.88      0.88       205\n",
      "weighted avg       0.88      0.88      0.88       205\n",
      "\n"
     ]
    }
   ],
   "source": [
    "# Confusion Matrix\n",
    "print(classification_report(Y_test , X_test_prediction2))"
   ]
  },
  {
   "cell_type": "markdown",
   "id": "2b7d76fd",
   "metadata": {
    "papermill": {
     "duration": 0.0214,
     "end_time": "2023-06-27T21:50:34.070640",
     "exception": false,
     "start_time": "2023-06-27T21:50:34.049240",
     "status": "completed"
    },
    "tags": []
   },
   "source": [
    "### Random Forest Classifier (BEST ACCURACY)"
   ]
  },
  {
   "cell_type": "code",
   "execution_count": 23,
   "id": "b67e44bf",
   "metadata": {
    "execution": {
     "iopub.execute_input": "2023-06-27T21:50:34.114575Z",
     "iopub.status.busy": "2023-06-27T21:50:34.113655Z",
     "iopub.status.idle": "2023-06-27T21:50:34.400453Z",
     "shell.execute_reply": "2023-06-27T21:50:34.398975Z"
    },
    "papermill": {
     "duration": 0.312358,
     "end_time": "2023-06-27T21:50:34.403952",
     "exception": false,
     "start_time": "2023-06-27T21:50:34.091594",
     "status": "completed"
    },
    "tags": []
   },
   "outputs": [
    {
     "data": {
      "text/html": [
       "<style>#sk-container-id-3 {color: black;background-color: white;}#sk-container-id-3 pre{padding: 0;}#sk-container-id-3 div.sk-toggleable {background-color: white;}#sk-container-id-3 label.sk-toggleable__label {cursor: pointer;display: block;width: 100%;margin-bottom: 0;padding: 0.3em;box-sizing: border-box;text-align: center;}#sk-container-id-3 label.sk-toggleable__label-arrow:before {content: \"▸\";float: left;margin-right: 0.25em;color: #696969;}#sk-container-id-3 label.sk-toggleable__label-arrow:hover:before {color: black;}#sk-container-id-3 div.sk-estimator:hover label.sk-toggleable__label-arrow:before {color: black;}#sk-container-id-3 div.sk-toggleable__content {max-height: 0;max-width: 0;overflow: hidden;text-align: left;background-color: #f0f8ff;}#sk-container-id-3 div.sk-toggleable__content pre {margin: 0.2em;color: black;border-radius: 0.25em;background-color: #f0f8ff;}#sk-container-id-3 input.sk-toggleable__control:checked~div.sk-toggleable__content {max-height: 200px;max-width: 100%;overflow: auto;}#sk-container-id-3 input.sk-toggleable__control:checked~label.sk-toggleable__label-arrow:before {content: \"▾\";}#sk-container-id-3 div.sk-estimator input.sk-toggleable__control:checked~label.sk-toggleable__label {background-color: #d4ebff;}#sk-container-id-3 div.sk-label input.sk-toggleable__control:checked~label.sk-toggleable__label {background-color: #d4ebff;}#sk-container-id-3 input.sk-hidden--visually {border: 0;clip: rect(1px 1px 1px 1px);clip: rect(1px, 1px, 1px, 1px);height: 1px;margin: -1px;overflow: hidden;padding: 0;position: absolute;width: 1px;}#sk-container-id-3 div.sk-estimator {font-family: monospace;background-color: #f0f8ff;border: 1px dotted black;border-radius: 0.25em;box-sizing: border-box;margin-bottom: 0.5em;}#sk-container-id-3 div.sk-estimator:hover {background-color: #d4ebff;}#sk-container-id-3 div.sk-parallel-item::after {content: \"\";width: 100%;border-bottom: 1px solid gray;flex-grow: 1;}#sk-container-id-3 div.sk-label:hover label.sk-toggleable__label {background-color: #d4ebff;}#sk-container-id-3 div.sk-serial::before {content: \"\";position: absolute;border-left: 1px solid gray;box-sizing: border-box;top: 0;bottom: 0;left: 50%;z-index: 0;}#sk-container-id-3 div.sk-serial {display: flex;flex-direction: column;align-items: center;background-color: white;padding-right: 0.2em;padding-left: 0.2em;position: relative;}#sk-container-id-3 div.sk-item {position: relative;z-index: 1;}#sk-container-id-3 div.sk-parallel {display: flex;align-items: stretch;justify-content: center;background-color: white;position: relative;}#sk-container-id-3 div.sk-item::before, #sk-container-id-3 div.sk-parallel-item::before {content: \"\";position: absolute;border-left: 1px solid gray;box-sizing: border-box;top: 0;bottom: 0;left: 50%;z-index: -1;}#sk-container-id-3 div.sk-parallel-item {display: flex;flex-direction: column;z-index: 1;position: relative;background-color: white;}#sk-container-id-3 div.sk-parallel-item:first-child::after {align-self: flex-end;width: 50%;}#sk-container-id-3 div.sk-parallel-item:last-child::after {align-self: flex-start;width: 50%;}#sk-container-id-3 div.sk-parallel-item:only-child::after {width: 0;}#sk-container-id-3 div.sk-dashed-wrapped {border: 1px dashed gray;margin: 0 0.4em 0.5em 0.4em;box-sizing: border-box;padding-bottom: 0.4em;background-color: white;}#sk-container-id-3 div.sk-label label {font-family: monospace;font-weight: bold;display: inline-block;line-height: 1.2em;}#sk-container-id-3 div.sk-label-container {text-align: center;}#sk-container-id-3 div.sk-container {/* jupyter's `normalize.less` sets `[hidden] { display: none; }` but bootstrap.min.css set `[hidden] { display: none !important; }` so we also need the `!important` here to be able to override the default hidden behavior on the sphinx rendered scikit-learn.org. See: https://github.com/scikit-learn/scikit-learn/issues/21755 */display: inline-block !important;position: relative;}#sk-container-id-3 div.sk-text-repr-fallback {display: none;}</style><div id=\"sk-container-id-3\" class=\"sk-top-container\"><div class=\"sk-text-repr-fallback\"><pre>RandomForestClassifier(max_depth=6, random_state=0)</pre><b>In a Jupyter environment, please rerun this cell to show the HTML representation or trust the notebook. <br />On GitHub, the HTML representation is unable to render, please try loading this page with nbviewer.org.</b></div><div class=\"sk-container\" hidden><div class=\"sk-item\"><div class=\"sk-estimator sk-toggleable\"><input class=\"sk-toggleable__control sk-hidden--visually\" id=\"sk-estimator-id-3\" type=\"checkbox\" checked><label for=\"sk-estimator-id-3\" class=\"sk-toggleable__label sk-toggleable__label-arrow\">RandomForestClassifier</label><div class=\"sk-toggleable__content\"><pre>RandomForestClassifier(max_depth=6, random_state=0)</pre></div></div></div></div></div>"
      ],
      "text/plain": [
       "RandomForestClassifier(max_depth=6, random_state=0)"
      ]
     },
     "execution_count": 23,
     "metadata": {},
     "output_type": "execute_result"
    }
   ],
   "source": [
    "random_forest_clf = RandomForestClassifier(max_depth = 6, random_state=0)  # creating object or instance\n",
    "random_forest_clf.fit(X_train, Y_train)  # fits the data"
   ]
  },
  {
   "cell_type": "code",
   "execution_count": 24,
   "id": "d0021fac",
   "metadata": {
    "execution": {
     "iopub.execute_input": "2023-06-27T21:50:34.448583Z",
     "iopub.status.busy": "2023-06-27T21:50:34.448121Z",
     "iopub.status.idle": "2023-06-27T21:50:34.481894Z",
     "shell.execute_reply": "2023-06-27T21:50:34.480220Z"
    },
    "papermill": {
     "duration": 0.058938,
     "end_time": "2023-06-27T21:50:34.484405",
     "exception": false,
     "start_time": "2023-06-27T21:50:34.425467",
     "status": "completed"
    },
    "tags": []
   },
   "outputs": [
    {
     "name": "stdout",
     "output_type": "stream",
     "text": [
      "Accuracy on Training data :  0.973170731707317\n"
     ]
    }
   ],
   "source": [
    "# accuracy on training data\n",
    "X_train_prediction3 = random_forest_clf.predict(X_train)\n",
    "training_data_accuracy = accuracy_score(X_train_prediction3, Y_train)\n",
    "print('Accuracy on Training data : ', training_data_accuracy)"
   ]
  },
  {
   "cell_type": "code",
   "execution_count": 25,
   "id": "5eeeb3fb",
   "metadata": {
    "execution": {
     "iopub.execute_input": "2023-06-27T21:50:34.528969Z",
     "iopub.status.busy": "2023-06-27T21:50:34.528580Z",
     "iopub.status.idle": "2023-06-27T21:50:34.555540Z",
     "shell.execute_reply": "2023-06-27T21:50:34.554213Z"
    },
    "papermill": {
     "duration": 0.053094,
     "end_time": "2023-06-27T21:50:34.558838",
     "exception": false,
     "start_time": "2023-06-27T21:50:34.505744",
     "status": "completed"
    },
    "tags": []
   },
   "outputs": [
    {
     "name": "stdout",
     "output_type": "stream",
     "text": [
      "Accuracy on Test data :  0.9707317073170731\n"
     ]
    }
   ],
   "source": [
    "# accuracy on test data\n",
    "X_test_prediction3 = random_forest_clf.predict(X_test)\n",
    "test_data_accuracy = accuracy_score(X_test_prediction3, Y_test)\n",
    "print('Accuracy on Test data : ', test_data_accuracy)"
   ]
  },
  {
   "cell_type": "code",
   "execution_count": 26,
   "id": "0aea4782",
   "metadata": {
    "execution": {
     "iopub.execute_input": "2023-06-27T21:50:34.604284Z",
     "iopub.status.busy": "2023-06-27T21:50:34.603854Z",
     "iopub.status.idle": "2023-06-27T21:50:34.618447Z",
     "shell.execute_reply": "2023-06-27T21:50:34.616968Z"
    },
    "papermill": {
     "duration": 0.040442,
     "end_time": "2023-06-27T21:50:34.621108",
     "exception": false,
     "start_time": "2023-06-27T21:50:34.580666",
     "status": "completed"
    },
    "tags": []
   },
   "outputs": [
    {
     "name": "stdout",
     "output_type": "stream",
     "text": [
      "              precision    recall  f1-score   support\n",
      "\n",
      "           0       0.98      0.96      0.97       100\n",
      "           1       0.96      0.98      0.97       105\n",
      "\n",
      "    accuracy                           0.97       205\n",
      "   macro avg       0.97      0.97      0.97       205\n",
      "weighted avg       0.97      0.97      0.97       205\n",
      "\n"
     ]
    }
   ],
   "source": [
    "# Confusion Matrix\n",
    "print(classification_report(Y_test , X_test_prediction3))"
   ]
  },
  {
   "cell_type": "markdown",
   "id": "8fc6b246",
   "metadata": {
    "papermill": {
     "duration": 0.021052,
     "end_time": "2023-06-27T21:50:34.663815",
     "exception": false,
     "start_time": "2023-06-27T21:50:34.642763",
     "status": "completed"
    },
    "tags": []
   },
   "source": [
    "### Support Vector Classifier"
   ]
  },
  {
   "cell_type": "code",
   "execution_count": 27,
   "id": "6a2efc77",
   "metadata": {
    "execution": {
     "iopub.execute_input": "2023-06-27T21:50:34.708935Z",
     "iopub.status.busy": "2023-06-27T21:50:34.708497Z",
     "iopub.status.idle": "2023-06-27T21:50:40.036523Z",
     "shell.execute_reply": "2023-06-27T21:50:40.035086Z"
    },
    "papermill": {
     "duration": 5.354318,
     "end_time": "2023-06-27T21:50:40.039698",
     "exception": false,
     "start_time": "2023-06-27T21:50:34.685380",
     "status": "completed"
    },
    "tags": []
   },
   "outputs": [
    {
     "data": {
      "text/html": [
       "<style>#sk-container-id-4 {color: black;background-color: white;}#sk-container-id-4 pre{padding: 0;}#sk-container-id-4 div.sk-toggleable {background-color: white;}#sk-container-id-4 label.sk-toggleable__label {cursor: pointer;display: block;width: 100%;margin-bottom: 0;padding: 0.3em;box-sizing: border-box;text-align: center;}#sk-container-id-4 label.sk-toggleable__label-arrow:before {content: \"▸\";float: left;margin-right: 0.25em;color: #696969;}#sk-container-id-4 label.sk-toggleable__label-arrow:hover:before {color: black;}#sk-container-id-4 div.sk-estimator:hover label.sk-toggleable__label-arrow:before {color: black;}#sk-container-id-4 div.sk-toggleable__content {max-height: 0;max-width: 0;overflow: hidden;text-align: left;background-color: #f0f8ff;}#sk-container-id-4 div.sk-toggleable__content pre {margin: 0.2em;color: black;border-radius: 0.25em;background-color: #f0f8ff;}#sk-container-id-4 input.sk-toggleable__control:checked~div.sk-toggleable__content {max-height: 200px;max-width: 100%;overflow: auto;}#sk-container-id-4 input.sk-toggleable__control:checked~label.sk-toggleable__label-arrow:before {content: \"▾\";}#sk-container-id-4 div.sk-estimator input.sk-toggleable__control:checked~label.sk-toggleable__label {background-color: #d4ebff;}#sk-container-id-4 div.sk-label input.sk-toggleable__control:checked~label.sk-toggleable__label {background-color: #d4ebff;}#sk-container-id-4 input.sk-hidden--visually {border: 0;clip: rect(1px 1px 1px 1px);clip: rect(1px, 1px, 1px, 1px);height: 1px;margin: -1px;overflow: hidden;padding: 0;position: absolute;width: 1px;}#sk-container-id-4 div.sk-estimator {font-family: monospace;background-color: #f0f8ff;border: 1px dotted black;border-radius: 0.25em;box-sizing: border-box;margin-bottom: 0.5em;}#sk-container-id-4 div.sk-estimator:hover {background-color: #d4ebff;}#sk-container-id-4 div.sk-parallel-item::after {content: \"\";width: 100%;border-bottom: 1px solid gray;flex-grow: 1;}#sk-container-id-4 div.sk-label:hover label.sk-toggleable__label {background-color: #d4ebff;}#sk-container-id-4 div.sk-serial::before {content: \"\";position: absolute;border-left: 1px solid gray;box-sizing: border-box;top: 0;bottom: 0;left: 50%;z-index: 0;}#sk-container-id-4 div.sk-serial {display: flex;flex-direction: column;align-items: center;background-color: white;padding-right: 0.2em;padding-left: 0.2em;position: relative;}#sk-container-id-4 div.sk-item {position: relative;z-index: 1;}#sk-container-id-4 div.sk-parallel {display: flex;align-items: stretch;justify-content: center;background-color: white;position: relative;}#sk-container-id-4 div.sk-item::before, #sk-container-id-4 div.sk-parallel-item::before {content: \"\";position: absolute;border-left: 1px solid gray;box-sizing: border-box;top: 0;bottom: 0;left: 50%;z-index: -1;}#sk-container-id-4 div.sk-parallel-item {display: flex;flex-direction: column;z-index: 1;position: relative;background-color: white;}#sk-container-id-4 div.sk-parallel-item:first-child::after {align-self: flex-end;width: 50%;}#sk-container-id-4 div.sk-parallel-item:last-child::after {align-self: flex-start;width: 50%;}#sk-container-id-4 div.sk-parallel-item:only-child::after {width: 0;}#sk-container-id-4 div.sk-dashed-wrapped {border: 1px dashed gray;margin: 0 0.4em 0.5em 0.4em;box-sizing: border-box;padding-bottom: 0.4em;background-color: white;}#sk-container-id-4 div.sk-label label {font-family: monospace;font-weight: bold;display: inline-block;line-height: 1.2em;}#sk-container-id-4 div.sk-label-container {text-align: center;}#sk-container-id-4 div.sk-container {/* jupyter's `normalize.less` sets `[hidden] { display: none; }` but bootstrap.min.css set `[hidden] { display: none !important; }` so we also need the `!important` here to be able to override the default hidden behavior on the sphinx rendered scikit-learn.org. See: https://github.com/scikit-learn/scikit-learn/issues/21755 */display: inline-block !important;position: relative;}#sk-container-id-4 div.sk-text-repr-fallback {display: none;}</style><div id=\"sk-container-id-4\" class=\"sk-top-container\"><div class=\"sk-text-repr-fallback\"><pre>SVC(C=10000, gamma=0.001, kernel=&#x27;linear&#x27;)</pre><b>In a Jupyter environment, please rerun this cell to show the HTML representation or trust the notebook. <br />On GitHub, the HTML representation is unable to render, please try loading this page with nbviewer.org.</b></div><div class=\"sk-container\" hidden><div class=\"sk-item\"><div class=\"sk-estimator sk-toggleable\"><input class=\"sk-toggleable__control sk-hidden--visually\" id=\"sk-estimator-id-4\" type=\"checkbox\" checked><label for=\"sk-estimator-id-4\" class=\"sk-toggleable__label sk-toggleable__label-arrow\">SVC</label><div class=\"sk-toggleable__content\"><pre>SVC(C=10000, gamma=0.001, kernel=&#x27;linear&#x27;)</pre></div></div></div></div></div>"
      ],
      "text/plain": [
       "SVC(C=10000, gamma=0.001, kernel='linear')"
      ]
     },
     "execution_count": 27,
     "metadata": {},
     "output_type": "execute_result"
    }
   ],
   "source": [
    "# Linear Kernel\n",
    "svcLinear =  SVC(kernel='linear', C=10000, gamma=0.001)\n",
    "svcLinear.fit(X_train, Y_train)"
   ]
  },
  {
   "cell_type": "code",
   "execution_count": 28,
   "id": "8feb88bd",
   "metadata": {
    "execution": {
     "iopub.execute_input": "2023-06-27T21:50:40.085042Z",
     "iopub.status.busy": "2023-06-27T21:50:40.084650Z",
     "iopub.status.idle": "2023-06-27T21:50:40.101246Z",
     "shell.execute_reply": "2023-06-27T21:50:40.100356Z"
    },
    "papermill": {
     "duration": 0.042234,
     "end_time": "2023-06-27T21:50:40.103784",
     "exception": false,
     "start_time": "2023-06-27T21:50:40.061550",
     "status": "completed"
    },
    "tags": []
   },
   "outputs": [
    {
     "name": "stdout",
     "output_type": "stream",
     "text": [
      "Accuracy on Training data :  0.8719512195121951\n"
     ]
    }
   ],
   "source": [
    "# accuracy on training data\n",
    "X_train_prediction4 = svcLinear.predict(X_train)\n",
    "training_data_accuracy = accuracy_score(X_train_prediction4, Y_train)\n",
    "print('Accuracy on Training data : ', training_data_accuracy)"
   ]
  },
  {
   "cell_type": "code",
   "execution_count": 29,
   "id": "4068ac15",
   "metadata": {
    "execution": {
     "iopub.execute_input": "2023-06-27T21:50:40.150057Z",
     "iopub.status.busy": "2023-06-27T21:50:40.149613Z",
     "iopub.status.idle": "2023-06-27T21:50:40.160985Z",
     "shell.execute_reply": "2023-06-27T21:50:40.159457Z"
    },
    "papermill": {
     "duration": 0.037977,
     "end_time": "2023-06-27T21:50:40.163586",
     "exception": false,
     "start_time": "2023-06-27T21:50:40.125609",
     "status": "completed"
    },
    "tags": []
   },
   "outputs": [
    {
     "name": "stdout",
     "output_type": "stream",
     "text": [
      "Accuracy on Test data :  0.8195121951219512\n"
     ]
    }
   ],
   "source": [
    "# accuracy on test data\n",
    "X_test_prediction4 = svcLinear.predict(X_test)\n",
    "test_data_accuracy = accuracy_score(X_test_prediction4, Y_test)\n",
    "print('Accuracy on Test data : ', test_data_accuracy)"
   ]
  },
  {
   "cell_type": "code",
   "execution_count": 30,
   "id": "cdfba3fc",
   "metadata": {
    "execution": {
     "iopub.execute_input": "2023-06-27T21:50:40.208876Z",
     "iopub.status.busy": "2023-06-27T21:50:40.208445Z",
     "iopub.status.idle": "2023-06-27T21:50:40.444396Z",
     "shell.execute_reply": "2023-06-27T21:50:40.443247Z"
    },
    "papermill": {
     "duration": 0.261581,
     "end_time": "2023-06-27T21:50:40.447033",
     "exception": false,
     "start_time": "2023-06-27T21:50:40.185452",
     "status": "completed"
    },
    "tags": []
   },
   "outputs": [
    {
     "data": {
      "text/html": [
       "<style>#sk-container-id-5 {color: black;background-color: white;}#sk-container-id-5 pre{padding: 0;}#sk-container-id-5 div.sk-toggleable {background-color: white;}#sk-container-id-5 label.sk-toggleable__label {cursor: pointer;display: block;width: 100%;margin-bottom: 0;padding: 0.3em;box-sizing: border-box;text-align: center;}#sk-container-id-5 label.sk-toggleable__label-arrow:before {content: \"▸\";float: left;margin-right: 0.25em;color: #696969;}#sk-container-id-5 label.sk-toggleable__label-arrow:hover:before {color: black;}#sk-container-id-5 div.sk-estimator:hover label.sk-toggleable__label-arrow:before {color: black;}#sk-container-id-5 div.sk-toggleable__content {max-height: 0;max-width: 0;overflow: hidden;text-align: left;background-color: #f0f8ff;}#sk-container-id-5 div.sk-toggleable__content pre {margin: 0.2em;color: black;border-radius: 0.25em;background-color: #f0f8ff;}#sk-container-id-5 input.sk-toggleable__control:checked~div.sk-toggleable__content {max-height: 200px;max-width: 100%;overflow: auto;}#sk-container-id-5 input.sk-toggleable__control:checked~label.sk-toggleable__label-arrow:before {content: \"▾\";}#sk-container-id-5 div.sk-estimator input.sk-toggleable__control:checked~label.sk-toggleable__label {background-color: #d4ebff;}#sk-container-id-5 div.sk-label input.sk-toggleable__control:checked~label.sk-toggleable__label {background-color: #d4ebff;}#sk-container-id-5 input.sk-hidden--visually {border: 0;clip: rect(1px 1px 1px 1px);clip: rect(1px, 1px, 1px, 1px);height: 1px;margin: -1px;overflow: hidden;padding: 0;position: absolute;width: 1px;}#sk-container-id-5 div.sk-estimator {font-family: monospace;background-color: #f0f8ff;border: 1px dotted black;border-radius: 0.25em;box-sizing: border-box;margin-bottom: 0.5em;}#sk-container-id-5 div.sk-estimator:hover {background-color: #d4ebff;}#sk-container-id-5 div.sk-parallel-item::after {content: \"\";width: 100%;border-bottom: 1px solid gray;flex-grow: 1;}#sk-container-id-5 div.sk-label:hover label.sk-toggleable__label {background-color: #d4ebff;}#sk-container-id-5 div.sk-serial::before {content: \"\";position: absolute;border-left: 1px solid gray;box-sizing: border-box;top: 0;bottom: 0;left: 50%;z-index: 0;}#sk-container-id-5 div.sk-serial {display: flex;flex-direction: column;align-items: center;background-color: white;padding-right: 0.2em;padding-left: 0.2em;position: relative;}#sk-container-id-5 div.sk-item {position: relative;z-index: 1;}#sk-container-id-5 div.sk-parallel {display: flex;align-items: stretch;justify-content: center;background-color: white;position: relative;}#sk-container-id-5 div.sk-item::before, #sk-container-id-5 div.sk-parallel-item::before {content: \"\";position: absolute;border-left: 1px solid gray;box-sizing: border-box;top: 0;bottom: 0;left: 50%;z-index: -1;}#sk-container-id-5 div.sk-parallel-item {display: flex;flex-direction: column;z-index: 1;position: relative;background-color: white;}#sk-container-id-5 div.sk-parallel-item:first-child::after {align-self: flex-end;width: 50%;}#sk-container-id-5 div.sk-parallel-item:last-child::after {align-self: flex-start;width: 50%;}#sk-container-id-5 div.sk-parallel-item:only-child::after {width: 0;}#sk-container-id-5 div.sk-dashed-wrapped {border: 1px dashed gray;margin: 0 0.4em 0.5em 0.4em;box-sizing: border-box;padding-bottom: 0.4em;background-color: white;}#sk-container-id-5 div.sk-label label {font-family: monospace;font-weight: bold;display: inline-block;line-height: 1.2em;}#sk-container-id-5 div.sk-label-container {text-align: center;}#sk-container-id-5 div.sk-container {/* jupyter's `normalize.less` sets `[hidden] { display: none; }` but bootstrap.min.css set `[hidden] { display: none !important; }` so we also need the `!important` here to be able to override the default hidden behavior on the sphinx rendered scikit-learn.org. See: https://github.com/scikit-learn/scikit-learn/issues/21755 */display: inline-block !important;position: relative;}#sk-container-id-5 div.sk-text-repr-fallback {display: none;}</style><div id=\"sk-container-id-5\" class=\"sk-top-container\"><div class=\"sk-text-repr-fallback\"><pre>SVC(C=100000, gamma=0.005, kernel=&#x27;sigmoid&#x27;)</pre><b>In a Jupyter environment, please rerun this cell to show the HTML representation or trust the notebook. <br />On GitHub, the HTML representation is unable to render, please try loading this page with nbviewer.org.</b></div><div class=\"sk-container\" hidden><div class=\"sk-item\"><div class=\"sk-estimator sk-toggleable\"><input class=\"sk-toggleable__control sk-hidden--visually\" id=\"sk-estimator-id-5\" type=\"checkbox\" checked><label for=\"sk-estimator-id-5\" class=\"sk-toggleable__label sk-toggleable__label-arrow\">SVC</label><div class=\"sk-toggleable__content\"><pre>SVC(C=100000, gamma=0.005, kernel=&#x27;sigmoid&#x27;)</pre></div></div></div></div></div>"
      ],
      "text/plain": [
       "SVC(C=100000, gamma=0.005, kernel='sigmoid')"
      ]
     },
     "execution_count": 30,
     "metadata": {},
     "output_type": "execute_result"
    }
   ],
   "source": [
    "# Sigmoid Kernel\n",
    "svm = SVC(kernel = 'sigmoid', gamma=0.005, C = 100000)\n",
    "svm.fit(X_train, Y_train)"
   ]
  },
  {
   "cell_type": "code",
   "execution_count": 31,
   "id": "2eeb530b",
   "metadata": {
    "execution": {
     "iopub.execute_input": "2023-06-27T21:50:40.492981Z",
     "iopub.status.busy": "2023-06-27T21:50:40.492520Z",
     "iopub.status.idle": "2023-06-27T21:50:40.515534Z",
     "shell.execute_reply": "2023-06-27T21:50:40.513633Z"
    },
    "papermill": {
     "duration": 0.049119,
     "end_time": "2023-06-27T21:50:40.518219",
     "exception": false,
     "start_time": "2023-06-27T21:50:40.469100",
     "status": "completed"
    },
    "tags": []
   },
   "outputs": [
    {
     "name": "stdout",
     "output_type": "stream",
     "text": [
      "Accuracy on Training data :  0.8134146341463414\n"
     ]
    }
   ],
   "source": [
    "# accuracy on training data\n",
    "X_train_prediction4 = svm.predict(X_train)\n",
    "training_data_accuracy = accuracy_score(X_train_prediction4, Y_train)\n",
    "print('Accuracy on Training data : ', training_data_accuracy)"
   ]
  },
  {
   "cell_type": "code",
   "execution_count": 32,
   "id": "8c0d8014",
   "metadata": {
    "execution": {
     "iopub.execute_input": "2023-06-27T21:50:40.564591Z",
     "iopub.status.busy": "2023-06-27T21:50:40.564169Z",
     "iopub.status.idle": "2023-06-27T21:50:40.576637Z",
     "shell.execute_reply": "2023-06-27T21:50:40.575202Z"
    },
    "papermill": {
     "duration": 0.038315,
     "end_time": "2023-06-27T21:50:40.578878",
     "exception": false,
     "start_time": "2023-06-27T21:50:40.540563",
     "status": "completed"
    },
    "tags": []
   },
   "outputs": [
    {
     "name": "stdout",
     "output_type": "stream",
     "text": [
      "Accuracy on Test data :  0.7560975609756098\n"
     ]
    }
   ],
   "source": [
    "# accuracy on test data\n",
    "X_test_prediction4 = svm.predict(X_test)\n",
    "test_data_accuracy = accuracy_score(X_test_prediction4, Y_test)\n",
    "print('Accuracy on Test data : ', test_data_accuracy)"
   ]
  },
  {
   "cell_type": "code",
   "execution_count": 33,
   "id": "a96536f3",
   "metadata": {
    "execution": {
     "iopub.execute_input": "2023-06-27T21:50:40.624619Z",
     "iopub.status.busy": "2023-06-27T21:50:40.624174Z",
     "iopub.status.idle": "2023-06-27T21:50:40.639311Z",
     "shell.execute_reply": "2023-06-27T21:50:40.638204Z"
    },
    "papermill": {
     "duration": 0.041629,
     "end_time": "2023-06-27T21:50:40.642463",
     "exception": false,
     "start_time": "2023-06-27T21:50:40.600834",
     "status": "completed"
    },
    "tags": []
   },
   "outputs": [
    {
     "name": "stdout",
     "output_type": "stream",
     "text": [
      "              precision    recall  f1-score   support\n",
      "\n",
      "           0       0.78      0.69      0.73       100\n",
      "           1       0.74      0.82      0.77       105\n",
      "\n",
      "    accuracy                           0.76       205\n",
      "   macro avg       0.76      0.75      0.75       205\n",
      "weighted avg       0.76      0.76      0.75       205\n",
      "\n"
     ]
    }
   ],
   "source": [
    "# Confusion Matrix\n",
    "print(classification_report(Y_test , X_test_prediction4))"
   ]
  },
  {
   "cell_type": "markdown",
   "id": "722bf278",
   "metadata": {
    "papermill": {
     "duration": 0.022347,
     "end_time": "2023-06-27T21:50:40.687745",
     "exception": false,
     "start_time": "2023-06-27T21:50:40.665398",
     "status": "completed"
    },
    "tags": []
   },
   "source": [
    "### Grid - Search CV"
   ]
  },
  {
   "cell_type": "code",
   "execution_count": 34,
   "id": "127b51f6",
   "metadata": {
    "execution": {
     "iopub.execute_input": "2023-06-27T21:50:40.733641Z",
     "iopub.status.busy": "2023-06-27T21:50:40.733218Z",
     "iopub.status.idle": "2023-06-27T21:50:46.769940Z",
     "shell.execute_reply": "2023-06-27T21:50:46.768800Z"
    },
    "papermill": {
     "duration": 6.062741,
     "end_time": "2023-06-27T21:50:46.772469",
     "exception": false,
     "start_time": "2023-06-27T21:50:40.709728",
     "status": "completed"
    },
    "tags": []
   },
   "outputs": [
    {
     "data": {
      "text/html": [
       "<style>#sk-container-id-6 {color: black;background-color: white;}#sk-container-id-6 pre{padding: 0;}#sk-container-id-6 div.sk-toggleable {background-color: white;}#sk-container-id-6 label.sk-toggleable__label {cursor: pointer;display: block;width: 100%;margin-bottom: 0;padding: 0.3em;box-sizing: border-box;text-align: center;}#sk-container-id-6 label.sk-toggleable__label-arrow:before {content: \"▸\";float: left;margin-right: 0.25em;color: #696969;}#sk-container-id-6 label.sk-toggleable__label-arrow:hover:before {color: black;}#sk-container-id-6 div.sk-estimator:hover label.sk-toggleable__label-arrow:before {color: black;}#sk-container-id-6 div.sk-toggleable__content {max-height: 0;max-width: 0;overflow: hidden;text-align: left;background-color: #f0f8ff;}#sk-container-id-6 div.sk-toggleable__content pre {margin: 0.2em;color: black;border-radius: 0.25em;background-color: #f0f8ff;}#sk-container-id-6 input.sk-toggleable__control:checked~div.sk-toggleable__content {max-height: 200px;max-width: 100%;overflow: auto;}#sk-container-id-6 input.sk-toggleable__control:checked~label.sk-toggleable__label-arrow:before {content: \"▾\";}#sk-container-id-6 div.sk-estimator input.sk-toggleable__control:checked~label.sk-toggleable__label {background-color: #d4ebff;}#sk-container-id-6 div.sk-label input.sk-toggleable__control:checked~label.sk-toggleable__label {background-color: #d4ebff;}#sk-container-id-6 input.sk-hidden--visually {border: 0;clip: rect(1px 1px 1px 1px);clip: rect(1px, 1px, 1px, 1px);height: 1px;margin: -1px;overflow: hidden;padding: 0;position: absolute;width: 1px;}#sk-container-id-6 div.sk-estimator {font-family: monospace;background-color: #f0f8ff;border: 1px dotted black;border-radius: 0.25em;box-sizing: border-box;margin-bottom: 0.5em;}#sk-container-id-6 div.sk-estimator:hover {background-color: #d4ebff;}#sk-container-id-6 div.sk-parallel-item::after {content: \"\";width: 100%;border-bottom: 1px solid gray;flex-grow: 1;}#sk-container-id-6 div.sk-label:hover label.sk-toggleable__label {background-color: #d4ebff;}#sk-container-id-6 div.sk-serial::before {content: \"\";position: absolute;border-left: 1px solid gray;box-sizing: border-box;top: 0;bottom: 0;left: 50%;z-index: 0;}#sk-container-id-6 div.sk-serial {display: flex;flex-direction: column;align-items: center;background-color: white;padding-right: 0.2em;padding-left: 0.2em;position: relative;}#sk-container-id-6 div.sk-item {position: relative;z-index: 1;}#sk-container-id-6 div.sk-parallel {display: flex;align-items: stretch;justify-content: center;background-color: white;position: relative;}#sk-container-id-6 div.sk-item::before, #sk-container-id-6 div.sk-parallel-item::before {content: \"\";position: absolute;border-left: 1px solid gray;box-sizing: border-box;top: 0;bottom: 0;left: 50%;z-index: -1;}#sk-container-id-6 div.sk-parallel-item {display: flex;flex-direction: column;z-index: 1;position: relative;background-color: white;}#sk-container-id-6 div.sk-parallel-item:first-child::after {align-self: flex-end;width: 50%;}#sk-container-id-6 div.sk-parallel-item:last-child::after {align-self: flex-start;width: 50%;}#sk-container-id-6 div.sk-parallel-item:only-child::after {width: 0;}#sk-container-id-6 div.sk-dashed-wrapped {border: 1px dashed gray;margin: 0 0.4em 0.5em 0.4em;box-sizing: border-box;padding-bottom: 0.4em;background-color: white;}#sk-container-id-6 div.sk-label label {font-family: monospace;font-weight: bold;display: inline-block;line-height: 1.2em;}#sk-container-id-6 div.sk-label-container {text-align: center;}#sk-container-id-6 div.sk-container {/* jupyter's `normalize.less` sets `[hidden] { display: none; }` but bootstrap.min.css set `[hidden] { display: none !important; }` so we also need the `!important` here to be able to override the default hidden behavior on the sphinx rendered scikit-learn.org. See: https://github.com/scikit-learn/scikit-learn/issues/21755 */display: inline-block !important;position: relative;}#sk-container-id-6 div.sk-text-repr-fallback {display: none;}</style><div id=\"sk-container-id-6\" class=\"sk-top-container\"><div class=\"sk-text-repr-fallback\"><pre>GridSearchCV(estimator=SVC(),\n",
       "             param_grid={&#x27;C&#x27;: [100.0, 1000.0, 5000.0, 10000.0, 50000.0,\n",
       "                               100000.0],\n",
       "                         &#x27;gamma&#x27;: [0.001, 0.0005, 0.0001, 0.005]})</pre><b>In a Jupyter environment, please rerun this cell to show the HTML representation or trust the notebook. <br />On GitHub, the HTML representation is unable to render, please try loading this page with nbviewer.org.</b></div><div class=\"sk-container\" hidden><div class=\"sk-item sk-dashed-wrapped\"><div class=\"sk-label-container\"><div class=\"sk-label sk-toggleable\"><input class=\"sk-toggleable__control sk-hidden--visually\" id=\"sk-estimator-id-6\" type=\"checkbox\" ><label for=\"sk-estimator-id-6\" class=\"sk-toggleable__label sk-toggleable__label-arrow\">GridSearchCV</label><div class=\"sk-toggleable__content\"><pre>GridSearchCV(estimator=SVC(),\n",
       "             param_grid={&#x27;C&#x27;: [100.0, 1000.0, 5000.0, 10000.0, 50000.0,\n",
       "                               100000.0],\n",
       "                         &#x27;gamma&#x27;: [0.001, 0.0005, 0.0001, 0.005]})</pre></div></div></div><div class=\"sk-parallel\"><div class=\"sk-parallel-item\"><div class=\"sk-item\"><div class=\"sk-label-container\"><div class=\"sk-label sk-toggleable\"><input class=\"sk-toggleable__control sk-hidden--visually\" id=\"sk-estimator-id-7\" type=\"checkbox\" ><label for=\"sk-estimator-id-7\" class=\"sk-toggleable__label sk-toggleable__label-arrow\">estimator: SVC</label><div class=\"sk-toggleable__content\"><pre>SVC()</pre></div></div></div><div class=\"sk-serial\"><div class=\"sk-item\"><div class=\"sk-estimator sk-toggleable\"><input class=\"sk-toggleable__control sk-hidden--visually\" id=\"sk-estimator-id-8\" type=\"checkbox\" ><label for=\"sk-estimator-id-8\" class=\"sk-toggleable__label sk-toggleable__label-arrow\">SVC</label><div class=\"sk-toggleable__content\"><pre>SVC()</pre></div></div></div></div></div></div></div></div></div></div>"
      ],
      "text/plain": [
       "GridSearchCV(estimator=SVC(),\n",
       "             param_grid={'C': [100.0, 1000.0, 5000.0, 10000.0, 50000.0,\n",
       "                               100000.0],\n",
       "                         'gamma': [0.001, 0.0005, 0.0001, 0.005]})"
      ]
     },
     "execution_count": 34,
     "metadata": {},
     "output_type": "execute_result"
    }
   ],
   "source": [
    "clf = SVC()\n",
    "grid = {'C' : [1e2, 1e3, 5e3, 1e4, 5e4, 1e5],\n",
    "       'gamma' : [1e-3, 5e-4, 1e-4, 5e-3]}\n",
    "abc = GridSearchCV(clf, grid)\n",
    "abc.fit(X_train, Y_train)"
   ]
  },
  {
   "cell_type": "code",
   "execution_count": 35,
   "id": "5f122f05",
   "metadata": {
    "execution": {
     "iopub.execute_input": "2023-06-27T21:50:46.819558Z",
     "iopub.status.busy": "2023-06-27T21:50:46.819110Z",
     "iopub.status.idle": "2023-06-27T21:50:46.827601Z",
     "shell.execute_reply": "2023-06-27T21:50:46.826445Z"
    },
    "papermill": {
     "duration": 0.03459,
     "end_time": "2023-06-27T21:50:46.829790",
     "exception": false,
     "start_time": "2023-06-27T21:50:46.795200",
     "status": "completed"
    },
    "tags": []
   },
   "outputs": [
    {
     "data": {
      "text/html": [
       "<style>#sk-container-id-7 {color: black;background-color: white;}#sk-container-id-7 pre{padding: 0;}#sk-container-id-7 div.sk-toggleable {background-color: white;}#sk-container-id-7 label.sk-toggleable__label {cursor: pointer;display: block;width: 100%;margin-bottom: 0;padding: 0.3em;box-sizing: border-box;text-align: center;}#sk-container-id-7 label.sk-toggleable__label-arrow:before {content: \"▸\";float: left;margin-right: 0.25em;color: #696969;}#sk-container-id-7 label.sk-toggleable__label-arrow:hover:before {color: black;}#sk-container-id-7 div.sk-estimator:hover label.sk-toggleable__label-arrow:before {color: black;}#sk-container-id-7 div.sk-toggleable__content {max-height: 0;max-width: 0;overflow: hidden;text-align: left;background-color: #f0f8ff;}#sk-container-id-7 div.sk-toggleable__content pre {margin: 0.2em;color: black;border-radius: 0.25em;background-color: #f0f8ff;}#sk-container-id-7 input.sk-toggleable__control:checked~div.sk-toggleable__content {max-height: 200px;max-width: 100%;overflow: auto;}#sk-container-id-7 input.sk-toggleable__control:checked~label.sk-toggleable__label-arrow:before {content: \"▾\";}#sk-container-id-7 div.sk-estimator input.sk-toggleable__control:checked~label.sk-toggleable__label {background-color: #d4ebff;}#sk-container-id-7 div.sk-label input.sk-toggleable__control:checked~label.sk-toggleable__label {background-color: #d4ebff;}#sk-container-id-7 input.sk-hidden--visually {border: 0;clip: rect(1px 1px 1px 1px);clip: rect(1px, 1px, 1px, 1px);height: 1px;margin: -1px;overflow: hidden;padding: 0;position: absolute;width: 1px;}#sk-container-id-7 div.sk-estimator {font-family: monospace;background-color: #f0f8ff;border: 1px dotted black;border-radius: 0.25em;box-sizing: border-box;margin-bottom: 0.5em;}#sk-container-id-7 div.sk-estimator:hover {background-color: #d4ebff;}#sk-container-id-7 div.sk-parallel-item::after {content: \"\";width: 100%;border-bottom: 1px solid gray;flex-grow: 1;}#sk-container-id-7 div.sk-label:hover label.sk-toggleable__label {background-color: #d4ebff;}#sk-container-id-7 div.sk-serial::before {content: \"\";position: absolute;border-left: 1px solid gray;box-sizing: border-box;top: 0;bottom: 0;left: 50%;z-index: 0;}#sk-container-id-7 div.sk-serial {display: flex;flex-direction: column;align-items: center;background-color: white;padding-right: 0.2em;padding-left: 0.2em;position: relative;}#sk-container-id-7 div.sk-item {position: relative;z-index: 1;}#sk-container-id-7 div.sk-parallel {display: flex;align-items: stretch;justify-content: center;background-color: white;position: relative;}#sk-container-id-7 div.sk-item::before, #sk-container-id-7 div.sk-parallel-item::before {content: \"\";position: absolute;border-left: 1px solid gray;box-sizing: border-box;top: 0;bottom: 0;left: 50%;z-index: -1;}#sk-container-id-7 div.sk-parallel-item {display: flex;flex-direction: column;z-index: 1;position: relative;background-color: white;}#sk-container-id-7 div.sk-parallel-item:first-child::after {align-self: flex-end;width: 50%;}#sk-container-id-7 div.sk-parallel-item:last-child::after {align-self: flex-start;width: 50%;}#sk-container-id-7 div.sk-parallel-item:only-child::after {width: 0;}#sk-container-id-7 div.sk-dashed-wrapped {border: 1px dashed gray;margin: 0 0.4em 0.5em 0.4em;box-sizing: border-box;padding-bottom: 0.4em;background-color: white;}#sk-container-id-7 div.sk-label label {font-family: monospace;font-weight: bold;display: inline-block;line-height: 1.2em;}#sk-container-id-7 div.sk-label-container {text-align: center;}#sk-container-id-7 div.sk-container {/* jupyter's `normalize.less` sets `[hidden] { display: none; }` but bootstrap.min.css set `[hidden] { display: none !important; }` so we also need the `!important` here to be able to override the default hidden behavior on the sphinx rendered scikit-learn.org. See: https://github.com/scikit-learn/scikit-learn/issues/21755 */display: inline-block !important;position: relative;}#sk-container-id-7 div.sk-text-repr-fallback {display: none;}</style><div id=\"sk-container-id-7\" class=\"sk-top-container\"><div class=\"sk-text-repr-fallback\"><pre>SVC(C=100000.0, gamma=0.005)</pre><b>In a Jupyter environment, please rerun this cell to show the HTML representation or trust the notebook. <br />On GitHub, the HTML representation is unable to render, please try loading this page with nbviewer.org.</b></div><div class=\"sk-container\" hidden><div class=\"sk-item\"><div class=\"sk-estimator sk-toggleable\"><input class=\"sk-toggleable__control sk-hidden--visually\" id=\"sk-estimator-id-9\" type=\"checkbox\" checked><label for=\"sk-estimator-id-9\" class=\"sk-toggleable__label sk-toggleable__label-arrow\">SVC</label><div class=\"sk-toggleable__content\"><pre>SVC(C=100000.0, gamma=0.005)</pre></div></div></div></div></div>"
      ],
      "text/plain": [
       "SVC(C=100000.0, gamma=0.005)"
      ]
     },
     "execution_count": 35,
     "metadata": {},
     "output_type": "execute_result"
    }
   ],
   "source": [
    "abc.best_estimator_"
   ]
  },
  {
   "cell_type": "markdown",
   "id": "d29d8f30",
   "metadata": {
    "papermill": {
     "duration": 0.022459,
     "end_time": "2023-06-27T21:50:46.875461",
     "exception": false,
     "start_time": "2023-06-27T21:50:46.853002",
     "status": "completed"
    },
    "tags": []
   },
   "source": [
    "### KNN : K-Nearest Neighbours"
   ]
  },
  {
   "cell_type": "code",
   "execution_count": 36,
   "id": "6f6d094d",
   "metadata": {
    "execution": {
     "iopub.execute_input": "2023-06-27T21:50:46.922815Z",
     "iopub.status.busy": "2023-06-27T21:50:46.922394Z",
     "iopub.status.idle": "2023-06-27T21:50:46.927764Z",
     "shell.execute_reply": "2023-06-27T21:50:46.926462Z"
    },
    "papermill": {
     "duration": 0.032512,
     "end_time": "2023-06-27T21:50:46.930630",
     "exception": false,
     "start_time": "2023-06-27T21:50:46.898118",
     "status": "completed"
    },
    "tags": []
   },
   "outputs": [],
   "source": [
    "# from imblearn.over_sampling import SMOTE\n",
    "# sm = SMOTE(random_state=0)\n",
    "# X_train , Y_train = sm.fit_resample(X_train , Y_train)"
   ]
  },
  {
   "cell_type": "code",
   "execution_count": 37,
   "id": "c072f3a2",
   "metadata": {
    "execution": {
     "iopub.execute_input": "2023-06-27T21:50:46.979081Z",
     "iopub.status.busy": "2023-06-27T21:50:46.978692Z",
     "iopub.status.idle": "2023-06-27T21:50:46.983212Z",
     "shell.execute_reply": "2023-06-27T21:50:46.981999Z"
    },
    "papermill": {
     "duration": 0.032105,
     "end_time": "2023-06-27T21:50:46.985500",
     "exception": false,
     "start_time": "2023-06-27T21:50:46.953395",
     "status": "completed"
    },
    "tags": []
   },
   "outputs": [],
   "source": [
    "# pip install imblearn"
   ]
  },
  {
   "cell_type": "code",
   "execution_count": 38,
   "id": "4029e3fe",
   "metadata": {
    "execution": {
     "iopub.execute_input": "2023-06-27T21:50:47.033095Z",
     "iopub.status.busy": "2023-06-27T21:50:47.032454Z",
     "iopub.status.idle": "2023-06-27T21:50:47.044734Z",
     "shell.execute_reply": "2023-06-27T21:50:47.043428Z"
    },
    "papermill": {
     "duration": 0.039252,
     "end_time": "2023-06-27T21:50:47.047389",
     "exception": false,
     "start_time": "2023-06-27T21:50:47.008137",
     "status": "completed"
    },
    "tags": []
   },
   "outputs": [
    {
     "data": {
      "text/html": [
       "<style>#sk-container-id-8 {color: black;background-color: white;}#sk-container-id-8 pre{padding: 0;}#sk-container-id-8 div.sk-toggleable {background-color: white;}#sk-container-id-8 label.sk-toggleable__label {cursor: pointer;display: block;width: 100%;margin-bottom: 0;padding: 0.3em;box-sizing: border-box;text-align: center;}#sk-container-id-8 label.sk-toggleable__label-arrow:before {content: \"▸\";float: left;margin-right: 0.25em;color: #696969;}#sk-container-id-8 label.sk-toggleable__label-arrow:hover:before {color: black;}#sk-container-id-8 div.sk-estimator:hover label.sk-toggleable__label-arrow:before {color: black;}#sk-container-id-8 div.sk-toggleable__content {max-height: 0;max-width: 0;overflow: hidden;text-align: left;background-color: #f0f8ff;}#sk-container-id-8 div.sk-toggleable__content pre {margin: 0.2em;color: black;border-radius: 0.25em;background-color: #f0f8ff;}#sk-container-id-8 input.sk-toggleable__control:checked~div.sk-toggleable__content {max-height: 200px;max-width: 100%;overflow: auto;}#sk-container-id-8 input.sk-toggleable__control:checked~label.sk-toggleable__label-arrow:before {content: \"▾\";}#sk-container-id-8 div.sk-estimator input.sk-toggleable__control:checked~label.sk-toggleable__label {background-color: #d4ebff;}#sk-container-id-8 div.sk-label input.sk-toggleable__control:checked~label.sk-toggleable__label {background-color: #d4ebff;}#sk-container-id-8 input.sk-hidden--visually {border: 0;clip: rect(1px 1px 1px 1px);clip: rect(1px, 1px, 1px, 1px);height: 1px;margin: -1px;overflow: hidden;padding: 0;position: absolute;width: 1px;}#sk-container-id-8 div.sk-estimator {font-family: monospace;background-color: #f0f8ff;border: 1px dotted black;border-radius: 0.25em;box-sizing: border-box;margin-bottom: 0.5em;}#sk-container-id-8 div.sk-estimator:hover {background-color: #d4ebff;}#sk-container-id-8 div.sk-parallel-item::after {content: \"\";width: 100%;border-bottom: 1px solid gray;flex-grow: 1;}#sk-container-id-8 div.sk-label:hover label.sk-toggleable__label {background-color: #d4ebff;}#sk-container-id-8 div.sk-serial::before {content: \"\";position: absolute;border-left: 1px solid gray;box-sizing: border-box;top: 0;bottom: 0;left: 50%;z-index: 0;}#sk-container-id-8 div.sk-serial {display: flex;flex-direction: column;align-items: center;background-color: white;padding-right: 0.2em;padding-left: 0.2em;position: relative;}#sk-container-id-8 div.sk-item {position: relative;z-index: 1;}#sk-container-id-8 div.sk-parallel {display: flex;align-items: stretch;justify-content: center;background-color: white;position: relative;}#sk-container-id-8 div.sk-item::before, #sk-container-id-8 div.sk-parallel-item::before {content: \"\";position: absolute;border-left: 1px solid gray;box-sizing: border-box;top: 0;bottom: 0;left: 50%;z-index: -1;}#sk-container-id-8 div.sk-parallel-item {display: flex;flex-direction: column;z-index: 1;position: relative;background-color: white;}#sk-container-id-8 div.sk-parallel-item:first-child::after {align-self: flex-end;width: 50%;}#sk-container-id-8 div.sk-parallel-item:last-child::after {align-self: flex-start;width: 50%;}#sk-container-id-8 div.sk-parallel-item:only-child::after {width: 0;}#sk-container-id-8 div.sk-dashed-wrapped {border: 1px dashed gray;margin: 0 0.4em 0.5em 0.4em;box-sizing: border-box;padding-bottom: 0.4em;background-color: white;}#sk-container-id-8 div.sk-label label {font-family: monospace;font-weight: bold;display: inline-block;line-height: 1.2em;}#sk-container-id-8 div.sk-label-container {text-align: center;}#sk-container-id-8 div.sk-container {/* jupyter's `normalize.less` sets `[hidden] { display: none; }` but bootstrap.min.css set `[hidden] { display: none !important; }` so we also need the `!important` here to be able to override the default hidden behavior on the sphinx rendered scikit-learn.org. See: https://github.com/scikit-learn/scikit-learn/issues/21755 */display: inline-block !important;position: relative;}#sk-container-id-8 div.sk-text-repr-fallback {display: none;}</style><div id=\"sk-container-id-8\" class=\"sk-top-container\"><div class=\"sk-text-repr-fallback\"><pre>KNeighborsClassifier()</pre><b>In a Jupyter environment, please rerun this cell to show the HTML representation or trust the notebook. <br />On GitHub, the HTML representation is unable to render, please try loading this page with nbviewer.org.</b></div><div class=\"sk-container\" hidden><div class=\"sk-item\"><div class=\"sk-estimator sk-toggleable\"><input class=\"sk-toggleable__control sk-hidden--visually\" id=\"sk-estimator-id-10\" type=\"checkbox\" checked><label for=\"sk-estimator-id-10\" class=\"sk-toggleable__label sk-toggleable__label-arrow\">KNeighborsClassifier</label><div class=\"sk-toggleable__content\"><pre>KNeighborsClassifier()</pre></div></div></div></div></div>"
      ],
      "text/plain": [
       "KNeighborsClassifier()"
      ]
     },
     "execution_count": 38,
     "metadata": {},
     "output_type": "execute_result"
    }
   ],
   "source": [
    "# knn = KNeighborsClassifier(leaf_size =1, n_neighbors=1)  # creating object or instance of KNN\n",
    "knn = KNeighborsClassifier() \n",
    "knn.fit(X_train, Y_train)  # fitting the training data OR training the algo/model"
   ]
  },
  {
   "cell_type": "code",
   "execution_count": 39,
   "id": "b220d90d",
   "metadata": {
    "execution": {
     "iopub.execute_input": "2023-06-27T21:50:47.095298Z",
     "iopub.status.busy": "2023-06-27T21:50:47.094887Z",
     "iopub.status.idle": "2023-06-27T21:50:47.144482Z",
     "shell.execute_reply": "2023-06-27T21:50:47.142645Z"
    },
    "papermill": {
     "duration": 0.076643,
     "end_time": "2023-06-27T21:50:47.147080",
     "exception": false,
     "start_time": "2023-06-27T21:50:47.070437",
     "status": "completed"
    },
    "tags": []
   },
   "outputs": [
    {
     "name": "stdout",
     "output_type": "stream",
     "text": [
      "Accuracy on Training data :  0.9621951219512195\n"
     ]
    }
   ],
   "source": [
    "# accuracy on training data\n",
    "X_train_prediction5 = knn.predict(X_train)\n",
    "training_data_accuracy = accuracy_score(X_train_prediction5, Y_train)\n",
    "print('Accuracy on Training data : ', training_data_accuracy)"
   ]
  },
  {
   "cell_type": "code",
   "execution_count": 40,
   "id": "0cd5183d",
   "metadata": {
    "execution": {
     "iopub.execute_input": "2023-06-27T21:50:47.196522Z",
     "iopub.status.busy": "2023-06-27T21:50:47.195799Z",
     "iopub.status.idle": "2023-06-27T21:50:47.216197Z",
     "shell.execute_reply": "2023-06-27T21:50:47.215221Z"
    },
    "papermill": {
     "duration": 0.04739,
     "end_time": "2023-06-27T21:50:47.218496",
     "exception": false,
     "start_time": "2023-06-27T21:50:47.171106",
     "status": "completed"
    },
    "tags": []
   },
   "outputs": [
    {
     "name": "stdout",
     "output_type": "stream",
     "text": [
      "Accuracy on Test data :  0.8780487804878049\n"
     ]
    }
   ],
   "source": [
    "# accuracy on test data\n",
    "X_test_prediction5 = knn.predict(X_test)\n",
    "test_data_accuracy = accuracy_score(X_test_prediction5, Y_test)\n",
    "print('Accuracy on Test data : ', test_data_accuracy)"
   ]
  },
  {
   "cell_type": "code",
   "execution_count": 41,
   "id": "b83099f8",
   "metadata": {
    "execution": {
     "iopub.execute_input": "2023-06-27T21:50:47.267931Z",
     "iopub.status.busy": "2023-06-27T21:50:47.266814Z",
     "iopub.status.idle": "2023-06-27T21:50:47.281404Z",
     "shell.execute_reply": "2023-06-27T21:50:47.280008Z"
    },
    "papermill": {
     "duration": 0.041764,
     "end_time": "2023-06-27T21:50:47.284029",
     "exception": false,
     "start_time": "2023-06-27T21:50:47.242265",
     "status": "completed"
    },
    "tags": []
   },
   "outputs": [
    {
     "name": "stdout",
     "output_type": "stream",
     "text": [
      "              precision    recall  f1-score   support\n",
      "\n",
      "           0       0.82      0.96      0.88       100\n",
      "           1       0.95      0.80      0.87       105\n",
      "\n",
      "    accuracy                           0.88       205\n",
      "   macro avg       0.89      0.88      0.88       205\n",
      "weighted avg       0.89      0.88      0.88       205\n",
      "\n"
     ]
    }
   ],
   "source": [
    "# Confusion Matrix\n",
    "print(classification_report(Y_test , X_test_prediction5))"
   ]
  },
  {
   "cell_type": "code",
   "execution_count": null,
   "id": "5bbf521c",
   "metadata": {
    "papermill": {
     "duration": 0.023362,
     "end_time": "2023-06-27T21:50:47.330486",
     "exception": false,
     "start_time": "2023-06-27T21:50:47.307124",
     "status": "completed"
    },
    "tags": []
   },
   "outputs": [],
   "source": []
  }
 ],
 "metadata": {
  "kernelspec": {
   "display_name": "Python 3",
   "language": "python",
   "name": "python3"
  },
  "language_info": {
   "codemirror_mode": {
    "name": "ipython",
    "version": 3
   },
   "file_extension": ".py",
   "mimetype": "text/x-python",
   "name": "python",
   "nbconvert_exporter": "python",
   "pygments_lexer": "ipython3",
   "version": "3.10.10"
  },
  "papermill": {
   "default_parameters": {},
   "duration": 33.233251,
   "end_time": "2023-06-27T21:50:48.377624",
   "environment_variables": {},
   "exception": null,
   "input_path": "__notebook__.ipynb",
   "output_path": "__notebook__.ipynb",
   "parameters": {},
   "start_time": "2023-06-27T21:50:15.144373",
   "version": "2.4.0"
  }
 },
 "nbformat": 4,
 "nbformat_minor": 5
}
